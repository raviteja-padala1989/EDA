{
 "cells": [
  {
   "cell_type": "markdown",
   "id": "9920f6a7",
   "metadata": {},
   "source": [
    "#### Raviteja Padala\n",
    "<img align=\"left\" img src= in.png height = 20 width=\"20\"/>   https://www.linkedin.com/in/raviteja-padala/ <br>\n",
    "\n",
    "<img align=\"left\" img src= github.png height = 20 width=\"20\"/> https://github.com/raviteja-padala\n"
   ]
  },
  {
   "cell_type": "markdown",
   "id": "5bbf2984",
   "metadata": {},
   "source": [
    "## <span style='color:Blue'> Objective :  </span> To perform Statistical analysis of Heart disease dataset and withdraw underlying insights from the dataset"
   ]
  },
  {
   "cell_type": "markdown",
   "id": "7b8b552f",
   "metadata": {},
   "source": [
    "Dataset: \"https://www.kaggle.com/datasets/johnsmith88/heart-disease-dataset\"\n",
    "\n",
    "About the Data set: \n",
    "\n",
    "- This data set consists of four databases: Cleveland, Hungary, Switzerland, and Long Beach V. It contains 76 attributes, including the predicted attribute, but all published experiments refer to using a subset of 14 of them. The \"target\" field refers to the presence of heart disease in the patient. It is integer valued 0 = no heart disease and 1 = heart disease.\n",
    " \n",
    "- The dataset consists of several medical predictor variables and one target variable. Predictor variables includes resting blood pressure , serum cholestoralthe patient has had and so on..\n",
    "\n",
    "- A heart attack (Cardiovascular diseases) occurs when the flow of blood to the heart muscle suddenly becomes blocked. From WHO statistics every year 17.9 million dying from heart attack. The medical study says that human life style is the main reason behind this heart problem. Apart from this there are many key factors which warns that the person may/maynot getting chance of heart attack.\n",
    "\n"
   ]
  },
  {
   "cell_type": "markdown",
   "id": "51f774c5",
   "metadata": {},
   "source": [
    "# Loading libraries"
   ]
  },
  {
   "cell_type": "code",
   "execution_count": 1,
   "id": "c5236c71",
   "metadata": {},
   "outputs": [],
   "source": [
    "#importing libraries to perfom analysis\n",
    "import pandas as pd\n",
    "import numpy as np\n",
    "import seaborn as sns\n",
    "import matplotlib.pyplot as plt\n",
    "%matplotlib inline\n"
   ]
  },
  {
   "cell_type": "markdown",
   "id": "400a112b",
   "metadata": {},
   "source": [
    "# Loading Dataset"
   ]
  },
  {
   "cell_type": "code",
   "execution_count": 2,
   "id": "2bf6b195",
   "metadata": {},
   "outputs": [],
   "source": [
    "# another Dataset source : http://archive.ics.uci.edu/dataset/45/heart+disease\n",
    "\n",
    "#importing data\n",
    "df_h  = pd.read_csv(r'C:\\Users\\Lenovo\\Ipynb_disk_c\\datasets\\heart_disease.csv')"
   ]
  },
  {
   "cell_type": "code",
   "execution_count": 3,
   "id": "afc730b6",
   "metadata": {},
   "outputs": [
    {
     "data": {
      "text/html": [
       "<div>\n",
       "<style scoped>\n",
       "    .dataframe tbody tr th:only-of-type {\n",
       "        vertical-align: middle;\n",
       "    }\n",
       "\n",
       "    .dataframe tbody tr th {\n",
       "        vertical-align: top;\n",
       "    }\n",
       "\n",
       "    .dataframe thead th {\n",
       "        text-align: right;\n",
       "    }\n",
       "</style>\n",
       "<table border=\"1\" class=\"dataframe\">\n",
       "  <thead>\n",
       "    <tr style=\"text-align: right;\">\n",
       "      <th></th>\n",
       "      <th>age</th>\n",
       "      <th>sex</th>\n",
       "      <th>cp</th>\n",
       "      <th>trestbps</th>\n",
       "      <th>chol</th>\n",
       "      <th>fbs</th>\n",
       "      <th>restecg</th>\n",
       "      <th>thalach</th>\n",
       "      <th>exang</th>\n",
       "      <th>oldpeak</th>\n",
       "      <th>slope</th>\n",
       "      <th>ca</th>\n",
       "      <th>thal</th>\n",
       "      <th>target</th>\n",
       "    </tr>\n",
       "  </thead>\n",
       "  <tbody>\n",
       "    <tr>\n",
       "      <th>0</th>\n",
       "      <td>52</td>\n",
       "      <td>1</td>\n",
       "      <td>0</td>\n",
       "      <td>125</td>\n",
       "      <td>212</td>\n",
       "      <td>0</td>\n",
       "      <td>1</td>\n",
       "      <td>168</td>\n",
       "      <td>0</td>\n",
       "      <td>1.0</td>\n",
       "      <td>2</td>\n",
       "      <td>2</td>\n",
       "      <td>3</td>\n",
       "      <td>0</td>\n",
       "    </tr>\n",
       "    <tr>\n",
       "      <th>1</th>\n",
       "      <td>53</td>\n",
       "      <td>1</td>\n",
       "      <td>0</td>\n",
       "      <td>140</td>\n",
       "      <td>203</td>\n",
       "      <td>1</td>\n",
       "      <td>0</td>\n",
       "      <td>155</td>\n",
       "      <td>1</td>\n",
       "      <td>3.1</td>\n",
       "      <td>0</td>\n",
       "      <td>0</td>\n",
       "      <td>3</td>\n",
       "      <td>0</td>\n",
       "    </tr>\n",
       "    <tr>\n",
       "      <th>2</th>\n",
       "      <td>70</td>\n",
       "      <td>1</td>\n",
       "      <td>0</td>\n",
       "      <td>145</td>\n",
       "      <td>174</td>\n",
       "      <td>0</td>\n",
       "      <td>1</td>\n",
       "      <td>125</td>\n",
       "      <td>1</td>\n",
       "      <td>2.6</td>\n",
       "      <td>0</td>\n",
       "      <td>0</td>\n",
       "      <td>3</td>\n",
       "      <td>0</td>\n",
       "    </tr>\n",
       "    <tr>\n",
       "      <th>3</th>\n",
       "      <td>61</td>\n",
       "      <td>1</td>\n",
       "      <td>0</td>\n",
       "      <td>148</td>\n",
       "      <td>203</td>\n",
       "      <td>0</td>\n",
       "      <td>1</td>\n",
       "      <td>161</td>\n",
       "      <td>0</td>\n",
       "      <td>0.0</td>\n",
       "      <td>2</td>\n",
       "      <td>1</td>\n",
       "      <td>3</td>\n",
       "      <td>0</td>\n",
       "    </tr>\n",
       "    <tr>\n",
       "      <th>4</th>\n",
       "      <td>62</td>\n",
       "      <td>0</td>\n",
       "      <td>0</td>\n",
       "      <td>138</td>\n",
       "      <td>294</td>\n",
       "      <td>1</td>\n",
       "      <td>1</td>\n",
       "      <td>106</td>\n",
       "      <td>0</td>\n",
       "      <td>1.9</td>\n",
       "      <td>1</td>\n",
       "      <td>3</td>\n",
       "      <td>2</td>\n",
       "      <td>0</td>\n",
       "    </tr>\n",
       "  </tbody>\n",
       "</table>\n",
       "</div>"
      ],
      "text/plain": [
       "   age  sex  cp  trestbps  chol  fbs  restecg  thalach  exang  oldpeak  slope  \\\n",
       "0   52    1   0       125   212    0        1      168      0      1.0      2   \n",
       "1   53    1   0       140   203    1        0      155      1      3.1      0   \n",
       "2   70    1   0       145   174    0        1      125      1      2.6      0   \n",
       "3   61    1   0       148   203    0        1      161      0      0.0      2   \n",
       "4   62    0   0       138   294    1        1      106      0      1.9      1   \n",
       "\n",
       "   ca  thal  target  \n",
       "0   2     3       0  \n",
       "1   0     3       0  \n",
       "2   0     3       0  \n",
       "3   1     3       0  \n",
       "4   3     2       0  "
      ]
     },
     "execution_count": 3,
     "metadata": {},
     "output_type": "execute_result"
    }
   ],
   "source": [
    "#cheking the top five rows of dataset\n",
    "df_h.head()"
   ]
  },
  {
   "cell_type": "code",
   "execution_count": 4,
   "id": "5d614c14",
   "metadata": {},
   "outputs": [
    {
     "name": "stdout",
     "output_type": "stream",
     "text": [
      "<class 'pandas.core.frame.DataFrame'>\n",
      "RangeIndex: 1025 entries, 0 to 1024\n",
      "Data columns (total 14 columns):\n",
      " #   Column    Non-Null Count  Dtype  \n",
      "---  ------    --------------  -----  \n",
      " 0   age       1025 non-null   int64  \n",
      " 1   sex       1025 non-null   int64  \n",
      " 2   cp        1025 non-null   int64  \n",
      " 3   trestbps  1025 non-null   int64  \n",
      " 4   chol      1025 non-null   int64  \n",
      " 5   fbs       1025 non-null   int64  \n",
      " 6   restecg   1025 non-null   int64  \n",
      " 7   thalach   1025 non-null   int64  \n",
      " 8   exang     1025 non-null   int64  \n",
      " 9   oldpeak   1025 non-null   float64\n",
      " 10  slope     1025 non-null   int64  \n",
      " 11  ca        1025 non-null   int64  \n",
      " 12  thal      1025 non-null   int64  \n",
      " 13  target    1025 non-null   int64  \n",
      "dtypes: float64(1), int64(13)\n",
      "memory usage: 112.2 KB\n"
     ]
    }
   ],
   "source": [
    "#checking the information about the dataset\n",
    "df_h.info()"
   ]
  },
  {
   "cell_type": "markdown",
   "id": "35fbf921",
   "metadata": {},
   "source": [
    "## Details about columns in dataset\n",
    "| Column | Description |Values | Type of Variable |\n",
    "| --- | --- | --- | ---|\n",
    "| age | age in years | age in years |Continous|\n",
    "| sex | Gender  | (0: female, 1: male)|Categorical|\n",
    "| cp  | chest_pain_type | (0 = Typical angina ,1 = Atypical angina,2 = Non-angina pain,3 = Asymptomatic)|Categorical|\n",
    "|trestbps| resting blood pressure | systolic blood pressure values |Continous|\n",
    "|chol|  serum cholestoral  |  cholestoral values in mg/dl|Continous|\n",
    "|fbs| Is fasting blood sugar > 120 mg/dl ?| (1 = true; 0 = false)|Categorical|\n",
    "|restecg| resting electrocardiographic results | (0 = Normal,1 = Abnormal ST-T wave,2 = Showing probable hypertrophy)|Categorical|\n",
    "|thalach| Maximum heart rate achieved| heartarte in (bpm)|Continous|\n",
    "|exang| Exercise induced angina|(0 = Negative,1 = Positive)|Categorical|\n",
    "|oldpeak|ST depression induced by exercise relative to rest|‘ST’ positions on the ECG plot|Continous|\n",
    "|slope| The slope of the peak exercise ST segment|0 = Upsloping,1 = Horizontal,2 = Downsloping|Categorical|\n",
    "|ca | colored blood vessels post fluoroscopy|Number of major vessels (0-4) colored by flouroscopy |Categorical|\n",
    "|thal| results of thallium stress test measuring blood flow |(0,1 = Normal,2 = Fixed defect,3 = Reversable defect)|Categorical|\n",
    "|target| Heart Disease | (0 =no Heart disease,1 = Heart disease)|  Categorical|\n"
   ]
  },
  {
   "cell_type": "markdown",
   "id": "703eac54",
   "metadata": {},
   "source": [
    "### Descriptive statistics about each column in dataset"
   ]
  },
  {
   "cell_type": "code",
   "execution_count": 5,
   "id": "9dc389b7",
   "metadata": {},
   "outputs": [
    {
     "data": {
      "text/plain": [
       "count    1025.000000\n",
       "mean       54.434146\n",
       "std         9.072290\n",
       "min        29.000000\n",
       "25%        48.000000\n",
       "50%        56.000000\n",
       "75%        61.000000\n",
       "max        77.000000\n",
       "Name: age, dtype: float64"
      ]
     },
     "execution_count": 5,
     "metadata": {},
     "output_type": "execute_result"
    }
   ],
   "source": [
    "#age column \n",
    "\n",
    "df_h['age'].describe()"
   ]
  },
  {
   "cell_type": "markdown",
   "id": "164d9a30",
   "metadata": {},
   "source": [
    " <span style='color:Blue'> **Observation:** </span> \n",
    " \n",
    "The describe() function details the various descriptive statistics like count, mean, Standard deviation , minimum age, maximun age in this datatet"
   ]
  },
  {
   "cell_type": "code",
   "execution_count": 6,
   "id": "b57056ad",
   "metadata": {},
   "outputs": [
    {
     "data": {
      "text/plain": [
       "1    713\n",
       "0    312\n",
       "Name: sex, dtype: int64"
      ]
     },
     "execution_count": 6,
     "metadata": {},
     "output_type": "execute_result"
    }
   ],
   "source": [
    "# sex column\n",
    "\n",
    "df_h['sex'].value_counts()"
   ]
  },
  {
   "cell_type": "markdown",
   "id": "fa1276fc",
   "metadata": {},
   "source": [
    " <span style='color:Blue'> **Observation:** </span>  \n",
    " The Count Male candidates in the dataset is 713, and female candidates is 312."
   ]
  },
  {
   "cell_type": "code",
   "execution_count": 7,
   "id": "a2dd67be",
   "metadata": {},
   "outputs": [
    {
     "data": {
      "text/plain": [
       "0    497\n",
       "2    284\n",
       "1    167\n",
       "3     77\n",
       "Name: cp, dtype: int64"
      ]
     },
     "execution_count": 7,
     "metadata": {},
     "output_type": "execute_result"
    }
   ],
   "source": [
    "# cp \n",
    "# cp column has ( chest pain : 0 = Typical angina ,1 = Atypical angina,2 = Non-angina pain,3 = Asymptomatic)\n",
    "\n",
    "df_h['cp'].value_counts()"
   ]
  },
  {
   "cell_type": "markdown",
   "id": "17f69d88",
   "metadata": {},
   "source": [
    " <span style='color:Blue'> **Observation:** </span> \n",
    "<br>Candidates with Typical angina are 497,<br> Candidates with non- angina are 284,<br>  Candidates with Atypical angina are 167, <br> Candidates with Asymptomatic angina are 77"
   ]
  },
  {
   "cell_type": "code",
   "execution_count": 8,
   "id": "40c483ec",
   "metadata": {},
   "outputs": [
    {
     "data": {
      "text/plain": [
       "count    1025.000000\n",
       "mean      131.611707\n",
       "std        17.516718\n",
       "min        94.000000\n",
       "25%       120.000000\n",
       "50%       130.000000\n",
       "75%       140.000000\n",
       "max       200.000000\n",
       "Name: trestbps, dtype: float64"
      ]
     },
     "execution_count": 8,
     "metadata": {},
     "output_type": "execute_result"
    }
   ],
   "source": [
    "#trestbps \n",
    "#(resting blood pressure columnn with systolic blood pressure values)\n",
    "\n",
    "df_h['trestbps'].describe()"
   ]
  },
  {
   "cell_type": "markdown",
   "id": "03704550",
   "metadata": {},
   "source": [
    " <span style='color:Blue'> **Observation:** </span>\n",
    " \n",
    "Detailed descriptive statistic values of Resting blood pressure in the dataset, the maximun Bp value is 200 and the minimum being 94."
   ]
  },
  {
   "cell_type": "code",
   "execution_count": 9,
   "id": "eb6e80c7",
   "metadata": {},
   "outputs": [
    {
     "data": {
      "text/plain": [
       "count    1025.00000\n",
       "mean      246.00000\n",
       "std        51.59251\n",
       "min       126.00000\n",
       "25%       211.00000\n",
       "50%       240.00000\n",
       "75%       275.00000\n",
       "max       564.00000\n",
       "Name: chol, dtype: float64"
      ]
     },
     "execution_count": 9,
     "metadata": {},
     "output_type": "execute_result"
    }
   ],
   "source": [
    "# chol\n",
    "# chol column contains cholestoral values in mg/dl\n",
    "\n",
    "df_h['chol'].describe()"
   ]
  },
  {
   "cell_type": "markdown",
   "id": "70410329",
   "metadata": {},
   "source": [
    " <span style='color:Blue'> **Observation:** </span>\n",
    " \n",
    " Detailed descriptive statistic values of cholestrol in the dataset."
   ]
  },
  {
   "cell_type": "code",
   "execution_count": 10,
   "id": "0b95f7a0",
   "metadata": {},
   "outputs": [
    {
     "data": {
      "text/plain": [
       "0    872\n",
       "1    153\n",
       "Name: fbs, dtype: int64"
      ]
     },
     "execution_count": 10,
     "metadata": {},
     "output_type": "execute_result"
    }
   ],
   "source": [
    "#fbs\n",
    "#Is fasting blood sugar > 120 mg/dl ? (1 = true; 0 = false)\n",
    "\n",
    "df_h['fbs'].value_counts()"
   ]
  },
  {
   "cell_type": "markdown",
   "id": "33ecdd35",
   "metadata": {},
   "source": [
    " <span style='color:Blue'> **Observation:** </span> \n",
    " \n",
    " Candidates with fasting blood sugar values > 120 mg/dL are 872 meaning the dataset contained maximum daiabetic candidates"
   ]
  },
  {
   "cell_type": "code",
   "execution_count": 11,
   "id": "4a142279",
   "metadata": {},
   "outputs": [
    {
     "data": {
      "text/plain": [
       "1    513\n",
       "0    497\n",
       "2     15\n",
       "Name: restecg, dtype: int64"
      ]
     },
     "execution_count": 11,
     "metadata": {},
     "output_type": "execute_result"
    }
   ],
   "source": [
    "#restecg\n",
    "#resting electrocardiographic results(0 = Normal,1 = Abnormal ST-T wave,2 = Showing probable hypertrophy)\n",
    "\n",
    "df_h['restecg'].value_counts()"
   ]
  },
  {
   "cell_type": "markdown",
   "id": "a617bb90",
   "metadata": {},
   "source": [
    " <span style='color:Blue'> **Observation:** </span> \n",
    " \n",
    " Candidates with abnormal ST wave are more with value count of 513 followed by normal and probable candidates."
   ]
  },
  {
   "cell_type": "code",
   "execution_count": 12,
   "id": "d261a6e0",
   "metadata": {},
   "outputs": [
    {
     "data": {
      "text/plain": [
       "count    1025.000000\n",
       "mean      149.114146\n",
       "std        23.005724\n",
       "min        71.000000\n",
       "25%       132.000000\n",
       "50%       152.000000\n",
       "75%       166.000000\n",
       "max       202.000000\n",
       "Name: thalach, dtype: float64"
      ]
     },
     "execution_count": 12,
     "metadata": {},
     "output_type": "execute_result"
    }
   ],
   "source": [
    "#thalach\n",
    "#Maximum heart rate achieved (bpm)\n",
    "\n",
    "df_h['thalach'].describe()"
   ]
  },
  {
   "cell_type": "markdown",
   "id": "c601b008",
   "metadata": {},
   "source": [
    "<span style='color:Blue'> **Observation:** </span>  \n",
    "\n",
    "The maximum heart beats per minute value observation shows candidates had maximum bpm ranging from 71 to 202"
   ]
  },
  {
   "cell_type": "code",
   "execution_count": 13,
   "id": "33e79bec",
   "metadata": {},
   "outputs": [
    {
     "data": {
      "text/plain": [
       "0    680\n",
       "1    345\n",
       "Name: exang, dtype: int64"
      ]
     },
     "execution_count": 13,
     "metadata": {},
     "output_type": "execute_result"
    }
   ],
   "source": [
    "#exang\n",
    "#Exercise induced angina (0 = Negative,1 = Positive)\n",
    "\n",
    "df_h['exang'].value_counts()"
   ]
  },
  {
   "cell_type": "markdown",
   "id": "8cf2c0e4",
   "metadata": {},
   "source": [
    " <span style='color:Blue'> **Observation:** </span> \n",
    " \n",
    " The values shows that candidates with Exercise induced angina are less comparitive to those with angina."
   ]
  },
  {
   "cell_type": "code",
   "execution_count": 14,
   "id": "07b559ed",
   "metadata": {},
   "outputs": [
    {
     "data": {
      "text/plain": [
       "count    1025.000000\n",
       "mean        1.071512\n",
       "std         1.175053\n",
       "min         0.000000\n",
       "25%         0.000000\n",
       "50%         0.800000\n",
       "75%         1.800000\n",
       "max         6.200000\n",
       "Name: oldpeak, dtype: float64"
      ]
     },
     "execution_count": 14,
     "metadata": {},
     "output_type": "execute_result"
    }
   ],
   "source": [
    "#oldpeak\n",
    "#ST depression induced by exercise relative to rest\t‘ST’ positions on the ECG plot\n",
    "\n",
    "df_h['oldpeak'].describe()"
   ]
  },
  {
   "cell_type": "markdown",
   "id": "2fd6ed9e",
   "metadata": {},
   "source": [
    " <span style='color:Blue'> **Observation:** </span> \n",
    "\n",
    "ST-segment depression is believed as a common electrocardiographic sign of myocardial problems, ST segment depression less than 0.5 mm is accepted in all leads. ST segment depression 0.5 mm or more is considered pathological. As per the statistics candidtes in the dataset had maximum peak value of 6.2 also.\n",
    "***"
   ]
  },
  {
   "cell_type": "code",
   "execution_count": 15,
   "id": "16386a02",
   "metadata": {},
   "outputs": [
    {
     "data": {
      "text/plain": [
       "1    482\n",
       "2    469\n",
       "0     74\n",
       "Name: slope, dtype: int64"
      ]
     },
     "execution_count": 15,
     "metadata": {},
     "output_type": "execute_result"
    }
   ],
   "source": [
    "#slope\n",
    "#The slope of the peak exercise ST segment(0 = Upsloping,1 = Horizontal,2 = Downsloping)\n",
    "\n",
    "df_h['slope'].value_counts()"
   ]
  },
  {
   "cell_type": "markdown",
   "id": "8fcae961",
   "metadata": {},
   "source": [
    " <span style='color:Blue'> **Observation:** </span> \n",
    " Candidates with the Horizontal and Downsloping values are almost equal compared to downsloping.\n",
    " ***"
   ]
  },
  {
   "cell_type": "code",
   "execution_count": 16,
   "id": "2c786c7d",
   "metadata": {},
   "outputs": [
    {
     "data": {
      "text/plain": [
       "0    578\n",
       "1    226\n",
       "2    134\n",
       "3     69\n",
       "4     18\n",
       "Name: ca, dtype: int64"
      ]
     },
     "execution_count": 16,
     "metadata": {},
     "output_type": "execute_result"
    }
   ],
   "source": [
    "#ca\n",
    "#colored blood vessels post fluoroscopy. Number of major vessels (0-4) colored by flouroscopy\n",
    "\n",
    "df_h['ca'].value_counts()"
   ]
  },
  {
   "cell_type": "markdown",
   "id": "74e63974",
   "metadata": {},
   "source": [
    " <span style='color:Blue'> **Observation:** </span> \n",
    "The value counts of coloured vessels showed an decreasing order.\n",
    "***"
   ]
  },
  {
   "cell_type": "code",
   "execution_count": 17,
   "id": "4bb18ac2",
   "metadata": {},
   "outputs": [
    {
     "data": {
      "text/plain": [
       "2    544\n",
       "3    410\n",
       "1     64\n",
       "0      7\n",
       "Name: thal, dtype: int64"
      ]
     },
     "execution_count": 17,
     "metadata": {},
     "output_type": "execute_result"
    }
   ],
   "source": [
    "#thal\n",
    "#results of thallium stress test measuring blood flow(0,1 = Normal,2 = Fixed defect,3 = Reversable defect)\n",
    "\n",
    "df_h['thal'].value_counts()"
   ]
  },
  {
   "cell_type": "markdown",
   "id": "f5b2eef6",
   "metadata": {},
   "source": [
    " <span style='color:Blue'> **Observation:** </span>  The Thallium scintigraphy test shows that candidates with fixed and reversable defects are more compared to the normal ones.\n",
    " ***"
   ]
  },
  {
   "cell_type": "code",
   "execution_count": 18,
   "id": "abd06495",
   "metadata": {},
   "outputs": [
    {
     "data": {
      "text/plain": [
       "1    526\n",
       "0    499\n",
       "Name: target, dtype: int64"
      ]
     },
     "execution_count": 18,
     "metadata": {},
     "output_type": "execute_result"
    }
   ],
   "source": [
    "#target\n",
    "#Heart Disease(0 =no Heart disease,1 = Heart disease)\n",
    "\n",
    "df_h['target'].value_counts()\n"
   ]
  },
  {
   "cell_type": "markdown",
   "id": "cd48521e",
   "metadata": {},
   "source": [
    " <span style='color:Blue'> **Observation:** </span>  Candidates with heart disease are 526 and candidates without heart disease are 499. \n",
    " ***"
   ]
  },
  {
   "cell_type": "markdown",
   "id": "ac1454ee",
   "metadata": {},
   "source": [
    "## Categorical and Continous columns"
   ]
  },
  {
   "cell_type": "code",
   "execution_count": 19,
   "id": "847a2d86",
   "metadata": {},
   "outputs": [
    {
     "name": "stdout",
     "output_type": "stream",
     "text": [
      "--------------------\n",
      "age : [52 53 70 61 62 58 55 46 54 71 43 34 51 50 60 67 45 63 42 44 56 57 59 64\n",
      " 65 41 66 38 49 48 29 37 47 68 76 40 39 77 69 35 74]\n",
      "--------------------\n",
      "sex : [1 0]\n",
      "--------------------\n",
      "cp : [0 1 2 3]\n",
      "--------------------\n",
      "trestbps : [125 140 145 148 138 100 114 160 120 122 112 132 118 128 124 106 104 135\n",
      " 130 136 180 129 150 178 146 117 152 154 170 134 174 144 108 123 110 142\n",
      " 126 192 115  94 200 165 102 105 155 172 164 156 101]\n",
      "--------------------\n",
      "chol : [212 203 174 294 248 318 289 249 286 149 341 210 298 204 308 266 244 211\n",
      " 185 223 208 252 209 307 233 319 256 327 169 131 269 196 231 213 271 263\n",
      " 229 360 258 330 342 226 228 278 230 283 241 175 188 217 193 245 232 299\n",
      " 288 197 315 215 164 326 207 177 257 255 187 201 220 268 267 236 303 282\n",
      " 126 309 186 275 281 206 335 218 254 295 417 260 240 302 192 225 325 235\n",
      " 274 234 182 167 172 321 300 199 564 157 304 222 184 354 160 247 239 246\n",
      " 409 293 180 250 221 200 227 243 311 261 242 205 306 219 353 198 394 183\n",
      " 237 224 265 313 340 259 270 216 264 276 322 214 273 253 176 284 305 168\n",
      " 407 290 277 262 195 166 178 141]\n",
      "--------------------\n",
      "fbs : [0 1]\n",
      "--------------------\n",
      "restecg : [1 0 2]\n",
      "--------------------\n",
      "thalach : [168 155 125 161 106 122 140 145 144 116 136 192 156 142 109 162 165 148\n",
      " 172 173 146 179 152 117 115 112 163 147 182 105 150 151 169 166 178 132\n",
      " 160 123 139 111 180 164 202 157 159 170 138 175 158 126 143 141 167  95\n",
      " 190 118 103 181 108 177 134 120 171 149 154 153  88 174 114 195 133  96\n",
      " 124 131 185 194 128 127 186 184 188 130  71 137  99 121 187  97  90 129\n",
      " 113]\n",
      "--------------------\n",
      "exang : [0 1]\n",
      "--------------------\n",
      "oldpeak : [1.  3.1 2.6 0.  1.9 4.4 0.8 3.2 1.6 3.  0.7 4.2 1.5 2.2 1.1 0.3 0.4 0.6\n",
      " 3.4 2.8 1.2 2.9 3.6 1.4 0.2 2.  5.6 0.9 1.8 6.2 4.  2.5 0.5 0.1 2.1 2.4\n",
      " 3.8 2.3 1.3 3.5]\n",
      "--------------------\n",
      "slope : [2 0 1]\n",
      "--------------------\n",
      "ca : [2 0 1 3 4]\n",
      "--------------------\n",
      "thal : [3 2 1 0]\n",
      "--------------------\n",
      "target : [0 1]\n"
     ]
    }
   ],
   "source": [
    "#Dividing Categorical and continous columns\n",
    "\n",
    "categorical_features = []\n",
    "continous_features = []\n",
    "\n",
    "for feature in df_h:\n",
    "    print(\"--------------------\")\n",
    "    print(f\"{feature} : {df_h[feature].unique()}\")\n",
    "    \n",
    "    if len(df_h[feature].unique()) <= 10:\n",
    "        categorical_features.append(feature)\n",
    "    else:\n",
    "        continous_features.append(feature)"
   ]
  },
  {
   "cell_type": "code",
   "execution_count": 20,
   "id": "8567281e",
   "metadata": {},
   "outputs": [
    {
     "data": {
      "text/plain": [
       "['sex', 'cp', 'fbs', 'restecg', 'exang', 'slope', 'ca', 'thal', 'target']"
      ]
     },
     "execution_count": 20,
     "metadata": {},
     "output_type": "execute_result"
    }
   ],
   "source": [
    "categorical_features"
   ]
  },
  {
   "cell_type": "code",
   "execution_count": 21,
   "id": "73d6e5e5",
   "metadata": {},
   "outputs": [
    {
     "data": {
      "text/plain": [
       "['age', 'trestbps', 'chol', 'thalach', 'oldpeak']"
      ]
     },
     "execution_count": 21,
     "metadata": {},
     "output_type": "execute_result"
    }
   ],
   "source": [
    "continous_features"
   ]
  },
  {
   "cell_type": "markdown",
   "id": "bc39376f",
   "metadata": {},
   "source": [
    "### Continous Data Analysis\n",
    "\n",
    "#### Measure of Central tendency"
   ]
  },
  {
   "cell_type": "code",
   "execution_count": 22,
   "id": "3283d3ef",
   "metadata": {},
   "outputs": [
    {
     "data": {
      "text/plain": [
       "age          54.434146\n",
       "trestbps    131.611707\n",
       "chol        246.000000\n",
       "thalach     149.114146\n",
       "oldpeak       1.071512\n",
       "dtype: float64"
      ]
     },
     "execution_count": 22,
     "metadata": {},
     "output_type": "execute_result"
    }
   ],
   "source": [
    "#Mean of all numerical columns\n",
    "np.mean(df_h[continous_features], axis=0)"
   ]
  },
  {
   "cell_type": "code",
   "execution_count": 23,
   "id": "c481c509",
   "metadata": {},
   "outputs": [
    {
     "data": {
      "text/plain": [
       "array([ 56. , 130. , 240. , 152. ,   0.8])"
      ]
     },
     "execution_count": 23,
     "metadata": {},
     "output_type": "execute_result"
    }
   ],
   "source": [
    "#Median of all numerical columns\n",
    "np.median(df_h[continous_features], axis=0)"
   ]
  },
  {
   "cell_type": "code",
   "execution_count": 24,
   "id": "c92e3adb",
   "metadata": {},
   "outputs": [
    {
     "data": {
      "text/html": [
       "<div>\n",
       "<style scoped>\n",
       "    .dataframe tbody tr th:only-of-type {\n",
       "        vertical-align: middle;\n",
       "    }\n",
       "\n",
       "    .dataframe tbody tr th {\n",
       "        vertical-align: top;\n",
       "    }\n",
       "\n",
       "    .dataframe thead th {\n",
       "        text-align: right;\n",
       "    }\n",
       "</style>\n",
       "<table border=\"1\" class=\"dataframe\">\n",
       "  <thead>\n",
       "    <tr style=\"text-align: right;\">\n",
       "      <th></th>\n",
       "      <th>age</th>\n",
       "      <th>sex</th>\n",
       "      <th>cp</th>\n",
       "      <th>trestbps</th>\n",
       "      <th>chol</th>\n",
       "      <th>fbs</th>\n",
       "      <th>restecg</th>\n",
       "      <th>thalach</th>\n",
       "      <th>exang</th>\n",
       "      <th>oldpeak</th>\n",
       "      <th>slope</th>\n",
       "      <th>ca</th>\n",
       "      <th>thal</th>\n",
       "      <th>target</th>\n",
       "    </tr>\n",
       "  </thead>\n",
       "  <tbody>\n",
       "    <tr>\n",
       "      <th>0</th>\n",
       "      <td>58.0</td>\n",
       "      <td>1.0</td>\n",
       "      <td>0.0</td>\n",
       "      <td>120.0</td>\n",
       "      <td>204</td>\n",
       "      <td>0.0</td>\n",
       "      <td>1.0</td>\n",
       "      <td>162.0</td>\n",
       "      <td>0.0</td>\n",
       "      <td>0.0</td>\n",
       "      <td>1.0</td>\n",
       "      <td>0.0</td>\n",
       "      <td>2.0</td>\n",
       "      <td>1.0</td>\n",
       "    </tr>\n",
       "    <tr>\n",
       "      <th>1</th>\n",
       "      <td>NaN</td>\n",
       "      <td>NaN</td>\n",
       "      <td>NaN</td>\n",
       "      <td>NaN</td>\n",
       "      <td>234</td>\n",
       "      <td>NaN</td>\n",
       "      <td>NaN</td>\n",
       "      <td>NaN</td>\n",
       "      <td>NaN</td>\n",
       "      <td>NaN</td>\n",
       "      <td>NaN</td>\n",
       "      <td>NaN</td>\n",
       "      <td>NaN</td>\n",
       "      <td>NaN</td>\n",
       "    </tr>\n",
       "  </tbody>\n",
       "</table>\n",
       "</div>"
      ],
      "text/plain": [
       "    age  sex   cp  trestbps  chol  fbs  restecg  thalach  exang  oldpeak  \\\n",
       "0  58.0  1.0  0.0     120.0   204  0.0      1.0    162.0    0.0      0.0   \n",
       "1   NaN  NaN  NaN       NaN   234  NaN      NaN      NaN    NaN      NaN   \n",
       "\n",
       "   slope   ca  thal  target  \n",
       "0    1.0  0.0   2.0     1.0  \n",
       "1    NaN  NaN   NaN     NaN  "
      ]
     },
     "execution_count": 24,
     "metadata": {},
     "output_type": "execute_result"
    }
   ],
   "source": [
    "#mode of all numerical columns\n",
    "df_h.mode()"
   ]
  },
  {
   "cell_type": "markdown",
   "id": "2a3821af",
   "metadata": {},
   "source": [
    " <span style='color:Blue'> **Observation:** </span>  After observing mode of all columns we can identify most frequent occuring datapoints in each column.\n",
    "\n",
    "* Most frequent observation of each column are:<br>\n",
    "Age--> 58 <br> sex --> Male  <br>chest pain -->Typical angina <br> resting blood pressure--> 120  <br>Serum cholestrol--> 204,234 <br> Fasting blood sugar--> positive <br> resting electrocardiographic results--> Abnormal ST-T wave <br> Maximum heart rate achieved--> 162 <br> Exercise induced angina --> Negative<br> Old peak-->‘ST’ positions on the ECG plot\tis 0 <br> slope --> Horizontal <br>ca\tcolored blood vessels post fluoroscopy -->Number of major vessels 0 <br> Thallium stress test  --> fixed defect <br> taget--> Heart disease\n",
    "***"
   ]
  },
  {
   "cell_type": "markdown",
   "id": "62ba3cf6",
   "metadata": {},
   "source": [
    "#### Measure of Dispersion"
   ]
  },
  {
   "cell_type": "code",
   "execution_count": 25,
   "id": "710a8adf",
   "metadata": {},
   "outputs": [
    {
     "data": {
      "text/plain": [
       "age           82.306450\n",
       "trestbps     306.835410\n",
       "chol        2661.787109\n",
       "thalach      529.263325\n",
       "oldpeak        1.380750\n",
       "dtype: float64"
      ]
     },
     "execution_count": 25,
     "metadata": {},
     "output_type": "execute_result"
    }
   ],
   "source": [
    "# Variance of continous_features\n",
    "\n",
    "df_h[continous_features].var()"
   ]
  },
  {
   "cell_type": "code",
   "execution_count": 26,
   "id": "d2ba707c",
   "metadata": {},
   "outputs": [
    {
     "data": {
      "text/plain": [
       "age           82.306450\n",
       "trestbps     306.835410\n",
       "chol        2661.787109\n",
       "thalach      529.263325\n",
       "oldpeak        1.380750\n",
       "dtype: float64"
      ]
     },
     "execution_count": 26,
     "metadata": {},
     "output_type": "execute_result"
    }
   ],
   "source": [
    "#  Standard Deviation of continous_features\n",
    "\n",
    "df_h[continous_features].var()"
   ]
  },
  {
   "cell_type": "code",
   "execution_count": 27,
   "id": "99e5388e",
   "metadata": {},
   "outputs": [
    {
     "data": {
      "text/html": [
       "<div>\n",
       "<style scoped>\n",
       "    .dataframe tbody tr th:only-of-type {\n",
       "        vertical-align: middle;\n",
       "    }\n",
       "\n",
       "    .dataframe tbody tr th {\n",
       "        vertical-align: top;\n",
       "    }\n",
       "\n",
       "    .dataframe thead th {\n",
       "        text-align: right;\n",
       "    }\n",
       "</style>\n",
       "<table border=\"1\" class=\"dataframe\">\n",
       "  <thead>\n",
       "    <tr style=\"text-align: right;\">\n",
       "      <th></th>\n",
       "      <th>age</th>\n",
       "      <th>trestbps</th>\n",
       "      <th>chol</th>\n",
       "      <th>thalach</th>\n",
       "      <th>oldpeak</th>\n",
       "    </tr>\n",
       "  </thead>\n",
       "  <tbody>\n",
       "    <tr>\n",
       "      <th>count</th>\n",
       "      <td>1025.000000</td>\n",
       "      <td>1025.000000</td>\n",
       "      <td>1025.00000</td>\n",
       "      <td>1025.000000</td>\n",
       "      <td>1025.000000</td>\n",
       "    </tr>\n",
       "    <tr>\n",
       "      <th>mean</th>\n",
       "      <td>54.434146</td>\n",
       "      <td>131.611707</td>\n",
       "      <td>246.00000</td>\n",
       "      <td>149.114146</td>\n",
       "      <td>1.071512</td>\n",
       "    </tr>\n",
       "    <tr>\n",
       "      <th>std</th>\n",
       "      <td>9.072290</td>\n",
       "      <td>17.516718</td>\n",
       "      <td>51.59251</td>\n",
       "      <td>23.005724</td>\n",
       "      <td>1.175053</td>\n",
       "    </tr>\n",
       "    <tr>\n",
       "      <th>min</th>\n",
       "      <td>29.000000</td>\n",
       "      <td>94.000000</td>\n",
       "      <td>126.00000</td>\n",
       "      <td>71.000000</td>\n",
       "      <td>0.000000</td>\n",
       "    </tr>\n",
       "    <tr>\n",
       "      <th>25%</th>\n",
       "      <td>48.000000</td>\n",
       "      <td>120.000000</td>\n",
       "      <td>211.00000</td>\n",
       "      <td>132.000000</td>\n",
       "      <td>0.000000</td>\n",
       "    </tr>\n",
       "    <tr>\n",
       "      <th>50%</th>\n",
       "      <td>56.000000</td>\n",
       "      <td>130.000000</td>\n",
       "      <td>240.00000</td>\n",
       "      <td>152.000000</td>\n",
       "      <td>0.800000</td>\n",
       "    </tr>\n",
       "    <tr>\n",
       "      <th>75%</th>\n",
       "      <td>61.000000</td>\n",
       "      <td>140.000000</td>\n",
       "      <td>275.00000</td>\n",
       "      <td>166.000000</td>\n",
       "      <td>1.800000</td>\n",
       "    </tr>\n",
       "    <tr>\n",
       "      <th>max</th>\n",
       "      <td>77.000000</td>\n",
       "      <td>200.000000</td>\n",
       "      <td>564.00000</td>\n",
       "      <td>202.000000</td>\n",
       "      <td>6.200000</td>\n",
       "    </tr>\n",
       "  </tbody>\n",
       "</table>\n",
       "</div>"
      ],
      "text/plain": [
       "               age     trestbps        chol      thalach      oldpeak\n",
       "count  1025.000000  1025.000000  1025.00000  1025.000000  1025.000000\n",
       "mean     54.434146   131.611707   246.00000   149.114146     1.071512\n",
       "std       9.072290    17.516718    51.59251    23.005724     1.175053\n",
       "min      29.000000    94.000000   126.00000    71.000000     0.000000\n",
       "25%      48.000000   120.000000   211.00000   132.000000     0.000000\n",
       "50%      56.000000   130.000000   240.00000   152.000000     0.800000\n",
       "75%      61.000000   140.000000   275.00000   166.000000     1.800000\n",
       "max      77.000000   200.000000   564.00000   202.000000     6.200000"
      ]
     },
     "execution_count": 27,
     "metadata": {},
     "output_type": "execute_result"
    }
   ],
   "source": [
    "#detailed statistics of continous features\n",
    "\n",
    "df_h[continous_features].describe()"
   ]
  },
  {
   "cell_type": "code",
   "execution_count": 28,
   "id": "31e3ddf1",
   "metadata": {},
   "outputs": [
    {
     "name": "stdout",
     "output_type": "stream",
     "text": [
      "Minimum value of age is: 29\n",
      "1st quartileof age is: 48.0\n",
      "Median of age is: 56.0\n",
      "3rd quartile of age is: 61.0\n",
      "Maximum value of age is: 77\n",
      "------------------------------------------------------------\n",
      "Minimum value of trestbps is: 94\n",
      "1st quartileof trestbps is: 120.0\n",
      "Median of trestbps is: 130.0\n",
      "3rd quartile of trestbps is: 140.0\n",
      "Maximum value of trestbps is: 200\n",
      "------------------------------------------------------------\n",
      "Minimum value of chol is: 126\n",
      "1st quartileof chol is: 211.0\n",
      "Median of chol is: 240.0\n",
      "3rd quartile of chol is: 275.0\n",
      "Maximum value of chol is: 564\n",
      "------------------------------------------------------------\n",
      "Minimum value of thalach is: 71\n",
      "1st quartileof thalach is: 132.0\n",
      "Median of thalach is: 152.0\n",
      "3rd quartile of thalach is: 166.0\n",
      "Maximum value of thalach is: 202\n",
      "------------------------------------------------------------\n",
      "Minimum value of oldpeak is: 0.0\n",
      "1st quartileof oldpeak is: 0.0\n",
      "Median of oldpeak is: 0.8\n",
      "3rd quartile of oldpeak is: 1.8\n",
      "Maximum value of oldpeak is: 6.2\n",
      "------------------------------------------------------------\n"
     ]
    }
   ],
   "source": [
    "#Five point summary\n",
    "\n",
    "for feature in df_h[continous_features]:\n",
    "    print(\"Minimum value of {} is: {}\".format(feature,df_h[feature].min())) \n",
    "    print(\"1st quartileof {} is: {}\".format(feature,np.percentile(df_h[feature], 25)))\n",
    "    print(\"Median of {} is: {}\".format(feature,np.percentile(df_h[feature], 50)))\n",
    "    print(\"3rd quartile of {} is: {}\".format(feature,np.percentile(df_h[feature], 75)))\n",
    "    print(\"Maximum value of {} is: {}\".format(feature,df_h[feature].max()))\n",
    "    print(\"------------------------------------------------------------\")\n"
   ]
  },
  {
   "cell_type": "code",
   "execution_count": 29,
   "id": "602acad5",
   "metadata": {},
   "outputs": [
    {
     "data": {
      "image/png": "[encoded data removed]",
      "text/plain": [
       "<Figure size 1008x432 with 6 Axes>"
      ]
     },
     "metadata": {
      "needs_background": "light"
     },
     "output_type": "display_data"
    }
   ],
   "source": [
    "#box plot of continous columns\n",
    "\n",
    "fig, axs = plt.subplots(ncols=2, nrows=3, figsize=(14, 6))\n",
    "index = 0\n",
    "axs = axs.flatten()\n",
    "for k,v in df_h[continous_features].items():\n",
    "    sns.boxplot(data=df_h,  x=k,  ax=axs[index])\n",
    "    index += 1\n",
    "       \n",
    "plt.tight_layout(pad=0.4, w_pad=0.5, h_pad=5.0)\n",
    "plt.show()\n"
   ]
  },
  {
   "cell_type": "markdown",
   "id": "8f9e77fb",
   "metadata": {},
   "source": [
    " <span style='color:Blue'> **Observation:** </span>  From the above box plots we can observe that, except age, remaining all continous columns have outliers\n",
    "***"
   ]
  },
  {
   "cell_type": "code",
   "execution_count": 30,
   "id": "9d820b1c",
   "metadata": {},
   "outputs": [
    {
     "data": {
      "image/png": "[encoded data removed]",
      "text/plain": [
       "<Figure size 720x1008 with 6 Axes>"
      ]
     },
     "metadata": {
      "needs_background": "light"
     },
     "output_type": "display_data"
    }
   ],
   "source": [
    "#Distribution of continous columns\n",
    "\n",
    "df_h[continous_features].hist(figsize=(10, 14))\n",
    "plt.show()"
   ]
  },
  {
   "cell_type": "code",
   "execution_count": 31,
   "id": "9eee9d8e",
   "metadata": {},
   "outputs": [
    {
     "data": {
      "image/png": "[encoded data removed]",
      "text/plain": [
       "<Figure size 720x288 with 2 Axes>"
      ]
     },
     "metadata": {
      "needs_background": "light"
     },
     "output_type": "display_data"
    },
    {
     "data": {
      "image/png": "[encoded data removed]",
      "text/plain": [
       "<Figure size 720x288 with 2 Axes>"
      ]
     },
     "metadata": {
      "needs_background": "light"
     },
     "output_type": "display_data"
    },
    {
     "data": {
      "image/png": "[encoded data removed]",
      "text/plain": [
       "<Figure size 720x288 with 2 Axes>"
      ]
     },
     "metadata": {
      "needs_background": "light"
     },
     "output_type": "display_data"
    },
    {
     "data": {
      "image/png": "[encoded data removed]",
      "text/plain": [
       "<Figure size 720x288 with 2 Axes>"
      ]
     },
     "metadata": {
      "needs_background": "light"
     },
     "output_type": "display_data"
    },
    {
     "data": {
      "image/png": "[encoded data removed]",
      "text/plain": [
       "<Figure size 720x288 with 2 Axes>"
      ]
     },
     "metadata": {
      "needs_background": "light"
     },
     "output_type": "display_data"
    }
   ],
   "source": [
    "import scipy.stats as stats\n",
    "for feature in df_h[continous_features]:\n",
    "    plt.figure(figsize=(10,4))\n",
    "    plt.subplot(121)\n",
    "    sns.histplot(data=df_h, x=feature, kde=True)\n",
    "    plt.title(\"{}'s distribution\".format(feature),fontweight=\"bold\", fontsize=15)\n",
    "    \n",
    "    plt.subplot(122)\n",
    "    stats.probplot(df_h[feature], dist='norm', plot=plt)\n",
    "    plt.title(\"{}'s Q-Q Plot\".format(feature),fontweight=\"bold\", fontsize=15)\n",
    "    plt.show();"
   ]
  },
  {
   "cell_type": "code",
   "execution_count": 32,
   "id": "b17a2ebe",
   "metadata": {},
   "outputs": [
    {
     "name": "stdout",
     "output_type": "stream",
     "text": [
      "age\n",
      "Test_statistic=0.98,  p_value=0.000000005041600470434559611022\n",
      "Sample does not look Gaussian(reject H0)\n",
      "----------------------------------------------------------------------\n",
      "trestbps\n",
      "Test_statistic=0.96,  p_value=0.000000000000002195492246865965\n",
      "Sample does not look Gaussian(reject H0)\n",
      "----------------------------------------------------------------------\n",
      "chol\n",
      "Test_statistic=0.95,  p_value=0.000000000000000004001022578492\n",
      "Sample does not look Gaussian(reject H0)\n",
      "----------------------------------------------------------------------\n",
      "thalach\n",
      "Test_statistic=0.98,  p_value=0.000000000015545847595332951130\n",
      "Sample does not look Gaussian(reject H0)\n",
      "----------------------------------------------------------------------\n",
      "oldpeak\n",
      "Test_statistic=0.85,  p_value=0.000000000000000000000000000005\n",
      "Sample does not look Gaussian(reject H0)\n",
      "----------------------------------------------------------------------\n"
     ]
    }
   ],
   "source": [
    "#performing shapiro-wick test to check normality of features\n",
    "\n",
    "from scipy.stats import shapiro\n",
    "#Shapiro() takes Parameters: Array of sample data, Returns: The test statistic and The p-value for the hypothesis test.\n",
    "\n",
    "for feature in df_h[continous_features]:\n",
    "    \n",
    "    testdata= df_h[feature]\n",
    "    test_statistic, p_value = shapiro(testdata)\n",
    "    \n",
    "    print(feature)\n",
    "    print('Test_statistic=%.2f,  p_value=%.30f' % (test_statistic, p_value))\n",
    "    \n",
    "    if p_value > 0.05:\n",
    "        print('Sample looks Gaussian(fail to reject H0)')\n",
    "    else:\n",
    "        print('Sample does not look Gaussian(reject H0)')\n",
    "        \n",
    "    print(\"-\"*70)"
   ]
  },
  {
   "cell_type": "code",
   "execution_count": 33,
   "id": "344f1e4b",
   "metadata": {},
   "outputs": [
    {
     "data": {
      "image/png": "[encoded data removed]",
      "text/plain": [
       "<Figure size 1008x288 with 5 Axes>"
      ]
     },
     "metadata": {
      "needs_background": "light"
     },
     "output_type": "display_data"
    }
   ],
   "source": [
    "#plotting Target vs continous columns\n",
    "\n",
    "fig, axs = plt.subplots(ncols=5, nrows=1, figsize=(14, 4))\n",
    "index = 0\n",
    "axs = axs.flatten()\n",
    "for k,v in df_h[continous_features].items():\n",
    "    sns.boxplot(data=df_h,  x=df_h['target'], y=k,  ax=axs[index])\n",
    "    index += 1\n",
    "       \n",
    "plt.tight_layout(pad=0.4, w_pad=0.5, h_pad=5.0)\n",
    "plt.show()\n"
   ]
  },
  {
   "cell_type": "code",
   "execution_count": 34,
   "id": "986ac21b",
   "metadata": {},
   "outputs": [
    {
     "name": "stdout",
     "output_type": "stream",
     "text": [
      "SKEWNESS of age is -0.24850155959576398\n",
      "SKEWNESS of trestbps is 0.7386851980251403\n",
      "SKEWNESS of chol is 1.0725003251281213\n",
      "SKEWNESS of thalach is -0.5130250022552884\n",
      "SKEWNESS of oldpeak is 1.2091266194843548\n"
     ]
    }
   ],
   "source": [
    "# Skewness\n",
    "from scipy.stats import skew\n",
    "\n",
    "for feature in df_h[continous_features]:\n",
    "    print(\"SKEWNESS of {} is {}\".format(feature,skew(df_h[feature], axis=0, bias=True)))"
   ]
  },
  {
   "cell_type": "markdown",
   "id": "937db33e",
   "metadata": {},
   "source": [
    "* Interpreting the results of skewness:\n",
    "\n",
    "* \"age\" has a negative skewness value of -0.2485. This indicates that the distribution of ages is slightly left-skewed, meaning it has a longer left tail compared to a symmetric distribution.\n",
    "\n",
    "* \"trestbps\" (resting blood pressure) has a positive skewness value of 0.7387. This indicates that the distribution of resting blood pressure is right-skewed, meaning it has a longer right tail compared to a symmetric distribution.\n",
    "\n",
    "* \"chol\" (serum cholesterol) has a positive skewness value of 1.0725. This suggests that the distribution of serum cholesterol is moderately right-skewed, with a longer right tail.\n",
    "\n",
    "* \"thalach\" (maximum heart rate achieved) has a negative skewness value of -0.5130. This suggests that the distribution of maximum heart rate achieved is slightly left-skewed, with a longer left tail.\n",
    "\n",
    "* \"oldpeak\" has a positive skewness value of 1.2091. This indicates that the distribution of oldpeak values is moderately right-skewed, with a longer right tail."
   ]
  },
  {
   "cell_type": "code",
   "execution_count": 35,
   "id": "044d886a",
   "metadata": {},
   "outputs": [
    {
     "name": "stdout",
     "output_type": "stream",
     "text": [
      "kurtosis of age is -0.52890527635084\n",
      "kurtosis of trestbps is 0.980544166382245\n",
      "kurtosis of chol is 3.971485106786689\n",
      "kurtosis of thalach is -0.09423775220542252\n",
      "kurtosis of oldpeak is 1.302219634816728\n"
     ]
    }
   ],
   "source": [
    "#kurtosis\n",
    "from scipy.stats import kurtosis\n",
    "\n",
    "for feature in df_h[continous_features]:\n",
    "    print(\"kurtosis of {} is {}\".format(feature,kurtosis(df_h[feature], axis=0, bias=True)))"
   ]
  },
  {
   "cell_type": "markdown",
   "id": "b122cf13",
   "metadata": {},
   "source": [
    "* Interpreting the results of kurtosis:\n",
    "\n",
    "* \"age\" has a negative kurtosis value of -0.5289. This indicates that the distribution of ages is slightly platykurtic, meaning it is less peaked and flatter compared to a normal distribution.\n",
    "\n",
    "* \"trestbps\" has a kurtosis value of 0.9805. This suggests that the distribution of resting blood pressure is close to being mesokurtic, which means it is similar to a normal distribution in terms of its peakedness.\n",
    "\n",
    "* \"chol\" has a kurtosis value of 3.9715. This indicates that the distribution of serum cholesterol is leptokurtic, meaning it has heavier tails and is more peaked compared to a normal distribution.\n",
    "\n",
    "* \"thalach\" has a negative kurtosis value of -0.0942. This suggests that the distribution of maximum heart rate achieved is slightly platykurtic, similar to the age variable.\n",
    "\n",
    "* \"oldpeak\" has a kurtosis value of 1.3022. This indicates that the distribution of oldpeak values is slightly leptokurtic, with heavier tails and a slightly higher peak compared to a normal distribution."
   ]
  },
  {
   "cell_type": "markdown",
   "id": "4a5cd609",
   "metadata": {},
   "source": [
    "# Age vs Heart Disease"
   ]
  },
  {
   "cell_type": "code",
   "execution_count": 60,
   "id": "faebe889",
   "metadata": {},
   "outputs": [
    {
     "name": "stdout",
     "output_type": "stream",
     "text": [
      "     No Heart Disease  Heart Disease\n",
      "age                                 \n",
      "29                0.0            4.0\n",
      "34                0.0            6.0\n",
      "35                7.0            8.0\n",
      "37                0.0            6.0\n",
      "38                4.0            8.0\n",
      "39                4.0           10.0\n",
      "40                8.0            3.0\n",
      "41                3.0           29.0\n",
      "42                4.0           22.0\n",
      "43               11.0           15.0\n",
      "44               10.0           26.0\n",
      "45                6.0           19.0\n",
      "46               11.0           12.0\n",
      "47                8.0           10.0\n",
      "48               11.0           12.0\n",
      "49                8.0            9.0\n",
      "50                9.0           12.0\n",
      "51               10.0           29.0\n",
      "52               15.0           28.0\n",
      "53                8.0           18.0\n",
      "54               21.0           32.0\n",
      "55               20.0           10.0\n",
      "56               22.0           17.0\n",
      "57               36.0           21.0\n",
      "58               44.0           24.0\n",
      "59               31.0           15.0\n",
      "60               27.0           10.0\n",
      "61               28.0            3.0\n",
      "62               24.0           13.0\n",
      "63               23.0            9.0\n",
      "64               15.0           19.0\n",
      "65               15.0           12.0\n",
      "66               11.0           14.0\n",
      "67               22.0            9.0\n",
      "68                6.0            6.0\n",
      "69                3.0            6.0\n",
      "70               11.0            3.0\n",
      "71                0.0           11.0\n",
      "74                0.0            3.0\n",
      "76                0.0            3.0\n",
      "77                3.0            0.0\n"
     ]
    }
   ],
   "source": [
    "\n",
    "# Group the data by 'Age' and 'Target' and count the occurrences of each category\n",
    "age_target_counts = df_h.groupby(['age', 'target']).size().reset_index(name='Count')\n",
    "\n",
    "# Pivot the table to have 'Age' as the index, 'Target' as columns, and 'Count' as values\n",
    "age_target_counts_pivot = age_target_counts.pivot(index='age', columns='target', values='Count')\n",
    "\n",
    "# Rename the columns for better interpretation\n",
    "age_target_counts_pivot.columns = ['No Heart Disease', 'Heart Disease']\n",
    "\n",
    "# If there are missing values, fill them with 0\n",
    "age_target_counts_pivot = age_target_counts_pivot.fillna(0)\n",
    "\n",
    "# Display the resulting table\n",
    "print(age_target_counts_pivot)\n",
    "\n"
   ]
  },
  {
   "cell_type": "code",
   "execution_count": 50,
   "id": "f349b6d3",
   "metadata": {
    "scrolled": true
   },
   "outputs": [
    {
     "data": {
      "image/png": "[encoded data removed]",
      "text/plain": [
       "<Figure size 1440x432 with 1 Axes>"
      ]
     },
     "metadata": {},
     "output_type": "display_data"
    }
   ],
   "source": [
    "# Create the countplot\n",
    "plt.rcParams['figure.figsize'] = (20, 6) \n",
    "sns.countplot(x='age', hue='target', data=df_h, palette='Set1')\n",
    "\n",
    "# Set the title and its size using matplotlib\n",
    "plt.title(\"Age vs Target\", fontsize=18)\n",
    "\n",
    "# Show the legend to the right of the plot\n",
    "plt.legend(title='target', loc='center right')\n",
    "\n",
    "# Show the plot\n",
    "plt.show()"
   ]
  },
  {
   "cell_type": "markdown",
   "id": "fd3016e9",
   "metadata": {},
   "source": [
    " <span style='color:Blue'> **Observation:** </span> \n",
    "\n",
    "\n",
    "- The number of individuals with heart disease seems to increase gradually with age, peaking around the age of 58 and 57 with 24 and 36 individuals, respectively.\n",
    "\n",
    "- For some age groups, such as 35, 44, 55, and 61, the number of individuals with heart disease is higher than those without heart disease.\n",
    "\n",
    "- For certain age groups, there are no individuals with heart disease, such as 71, 74, 76, and 77"
   ]
  },
  {
   "cell_type": "markdown",
   "id": "3e472755",
   "metadata": {},
   "source": [
    "## Categorical Data Analysis"
   ]
  },
  {
   "cell_type": "code",
   "execution_count": 38,
   "id": "5d22ebe3",
   "metadata": {
    "scrolled": true
   },
   "outputs": [
    {
     "data": {
      "text/html": [
       "<div>\n",
       "<style scoped>\n",
       "    .dataframe tbody tr th:only-of-type {\n",
       "        vertical-align: middle;\n",
       "    }\n",
       "\n",
       "    .dataframe tbody tr th {\n",
       "        vertical-align: top;\n",
       "    }\n",
       "\n",
       "    .dataframe thead th {\n",
       "        text-align: right;\n",
       "    }\n",
       "</style>\n",
       "<table border=\"1\" class=\"dataframe\">\n",
       "  <thead>\n",
       "    <tr style=\"text-align: right;\">\n",
       "      <th></th>\n",
       "      <th>sex</th>\n",
       "      <th>cp</th>\n",
       "      <th>fbs</th>\n",
       "      <th>restecg</th>\n",
       "      <th>exang</th>\n",
       "      <th>slope</th>\n",
       "      <th>ca</th>\n",
       "      <th>thal</th>\n",
       "      <th>target</th>\n",
       "    </tr>\n",
       "  </thead>\n",
       "  <tbody>\n",
       "    <tr>\n",
       "      <th>count</th>\n",
       "      <td>1025.000000</td>\n",
       "      <td>1025.000000</td>\n",
       "      <td>1025.000000</td>\n",
       "      <td>1025.000000</td>\n",
       "      <td>1025.000000</td>\n",
       "      <td>1025.000000</td>\n",
       "      <td>1025.000000</td>\n",
       "      <td>1025.000000</td>\n",
       "      <td>1025.000000</td>\n",
       "    </tr>\n",
       "    <tr>\n",
       "      <th>mean</th>\n",
       "      <td>0.695610</td>\n",
       "      <td>0.942439</td>\n",
       "      <td>0.149268</td>\n",
       "      <td>0.529756</td>\n",
       "      <td>0.336585</td>\n",
       "      <td>1.385366</td>\n",
       "      <td>0.754146</td>\n",
       "      <td>2.323902</td>\n",
       "      <td>0.513171</td>\n",
       "    </tr>\n",
       "    <tr>\n",
       "      <th>std</th>\n",
       "      <td>0.460373</td>\n",
       "      <td>1.029641</td>\n",
       "      <td>0.356527</td>\n",
       "      <td>0.527878</td>\n",
       "      <td>0.472772</td>\n",
       "      <td>0.617755</td>\n",
       "      <td>1.030798</td>\n",
       "      <td>0.620660</td>\n",
       "      <td>0.500070</td>\n",
       "    </tr>\n",
       "    <tr>\n",
       "      <th>min</th>\n",
       "      <td>0.000000</td>\n",
       "      <td>0.000000</td>\n",
       "      <td>0.000000</td>\n",
       "      <td>0.000000</td>\n",
       "      <td>0.000000</td>\n",
       "      <td>0.000000</td>\n",
       "      <td>0.000000</td>\n",
       "      <td>0.000000</td>\n",
       "      <td>0.000000</td>\n",
       "    </tr>\n",
       "    <tr>\n",
       "      <th>25%</th>\n",
       "      <td>0.000000</td>\n",
       "      <td>0.000000</td>\n",
       "      <td>0.000000</td>\n",
       "      <td>0.000000</td>\n",
       "      <td>0.000000</td>\n",
       "      <td>1.000000</td>\n",
       "      <td>0.000000</td>\n",
       "      <td>2.000000</td>\n",
       "      <td>0.000000</td>\n",
       "    </tr>\n",
       "    <tr>\n",
       "      <th>50%</th>\n",
       "      <td>1.000000</td>\n",
       "      <td>1.000000</td>\n",
       "      <td>0.000000</td>\n",
       "      <td>1.000000</td>\n",
       "      <td>0.000000</td>\n",
       "      <td>1.000000</td>\n",
       "      <td>0.000000</td>\n",
       "      <td>2.000000</td>\n",
       "      <td>1.000000</td>\n",
       "    </tr>\n",
       "    <tr>\n",
       "      <th>75%</th>\n",
       "      <td>1.000000</td>\n",
       "      <td>2.000000</td>\n",
       "      <td>0.000000</td>\n",
       "      <td>1.000000</td>\n",
       "      <td>1.000000</td>\n",
       "      <td>2.000000</td>\n",
       "      <td>1.000000</td>\n",
       "      <td>3.000000</td>\n",
       "      <td>1.000000</td>\n",
       "    </tr>\n",
       "    <tr>\n",
       "      <th>max</th>\n",
       "      <td>1.000000</td>\n",
       "      <td>3.000000</td>\n",
       "      <td>1.000000</td>\n",
       "      <td>2.000000</td>\n",
       "      <td>1.000000</td>\n",
       "      <td>2.000000</td>\n",
       "      <td>4.000000</td>\n",
       "      <td>3.000000</td>\n",
       "      <td>1.000000</td>\n",
       "    </tr>\n",
       "  </tbody>\n",
       "</table>\n",
       "</div>"
      ],
      "text/plain": [
       "               sex           cp          fbs      restecg        exang  \\\n",
       "count  1025.000000  1025.000000  1025.000000  1025.000000  1025.000000   \n",
       "mean      0.695610     0.942439     0.149268     0.529756     0.336585   \n",
       "std       0.460373     1.029641     0.356527     0.527878     0.472772   \n",
       "min       0.000000     0.000000     0.000000     0.000000     0.000000   \n",
       "25%       0.000000     0.000000     0.000000     0.000000     0.000000   \n",
       "50%       1.000000     1.000000     0.000000     1.000000     0.000000   \n",
       "75%       1.000000     2.000000     0.000000     1.000000     1.000000   \n",
       "max       1.000000     3.000000     1.000000     2.000000     1.000000   \n",
       "\n",
       "             slope           ca         thal       target  \n",
       "count  1025.000000  1025.000000  1025.000000  1025.000000  \n",
       "mean      1.385366     0.754146     2.323902     0.513171  \n",
       "std       0.617755     1.030798     0.620660     0.500070  \n",
       "min       0.000000     0.000000     0.000000     0.000000  \n",
       "25%       1.000000     0.000000     2.000000     0.000000  \n",
       "50%       1.000000     0.000000     2.000000     1.000000  \n",
       "75%       2.000000     1.000000     3.000000     1.000000  \n",
       "max       2.000000     4.000000     3.000000     1.000000  "
      ]
     },
     "execution_count": 38,
     "metadata": {},
     "output_type": "execute_result"
    }
   ],
   "source": [
    "# details of categorical variables \n",
    "df_h[categorical_features].describe()"
   ]
  },
  {
   "cell_type": "code",
   "execution_count": 39,
   "id": "80aedd1a",
   "metadata": {},
   "outputs": [
    {
     "data": {
      "image/png": "[encoded data removed]",
      "text/plain": [
       "<Figure size 1152x576 with 8 Axes>"
      ]
     },
     "metadata": {},
     "output_type": "display_data"
    }
   ],
   "source": [
    "#plotting all categorical variables against target\n",
    "#set seaborn plotting aesthetics as default\n",
    "sns.set()\n",
    "\n",
    "#define plotting region (2 rows, 2 columns)\n",
    "fig, axes = plt.subplots(2, 4, figsize=(16, 8))\n",
    "\n",
    "\n",
    "#create barplot in each subplot\n",
    "sns.barplot(data=df_h, x='sex', y='target', ax=axes[0,0])\n",
    "sns.barplot(data=df_h, x='cp', y='target', ax=axes[0,1])\n",
    "sns.barplot(data=df_h, x='fbs', y='target', ax=axes[0,2])\n",
    "sns.barplot(data=df_h, x='restecg', y='target', ax=axes[0,3])\n",
    "sns.barplot(data=df_h, x='exang', y='target', ax=axes[1,0])\n",
    "sns.barplot(data=df_h, x='slope', y='target', ax=axes[1,1])\n",
    "sns.barplot(data=df_h, x='ca', y='target', ax=axes[1,2])\n",
    "sns.barplot(data=df_h, x='thal', y='target', ax=axes[1,3])\n",
    "\n",
    "plt.show()"
   ]
  },
  {
   "cell_type": "markdown",
   "id": "2021fe2b",
   "metadata": {},
   "source": [
    " <span style='color:Blue'> **Observation:** </span> \n",
    " \n",
    "females are more likely to have heart problems than males<br>\n",
    "\n",
    "We notice, that chest pain of '0', i.e. the ones with typical angina are much less likely to have heart problems<br>\n",
    "\n",
    "people with restecg '1' and '0' are much more likely to have a heart disease than with restecg '2'<br>\n",
    "\n",
    "People with exang=1 i.e. Exercise induced angina are much less likely to have heart problems<br>\n",
    "\n",
    "that Slope '2' causes heart pain much more than Slope '0' and '1'<br>\n",
    "\n",
    "ca=4 has astonishingly large number of heart patients"
   ]
  },
  {
   "cell_type": "code",
   "execution_count": 40,
   "id": "9b2f9415",
   "metadata": {},
   "outputs": [
    {
     "data": {
      "text/html": [
       "<div>\n",
       "<style scoped>\n",
       "    .dataframe tbody tr th:only-of-type {\n",
       "        vertical-align: middle;\n",
       "    }\n",
       "\n",
       "    .dataframe tbody tr th {\n",
       "        vertical-align: top;\n",
       "    }\n",
       "\n",
       "    .dataframe thead th {\n",
       "        text-align: right;\n",
       "    }\n",
       "</style>\n",
       "<table border=\"1\" class=\"dataframe\">\n",
       "  <thead>\n",
       "    <tr style=\"text-align: right;\">\n",
       "      <th>target</th>\n",
       "      <th>0</th>\n",
       "      <th>1</th>\n",
       "    </tr>\n",
       "    <tr>\n",
       "      <th>sex</th>\n",
       "      <th></th>\n",
       "      <th></th>\n",
       "    </tr>\n",
       "  </thead>\n",
       "  <tbody>\n",
       "    <tr>\n",
       "      <th>0</th>\n",
       "      <td>86</td>\n",
       "      <td>226</td>\n",
       "    </tr>\n",
       "    <tr>\n",
       "      <th>1</th>\n",
       "      <td>413</td>\n",
       "      <td>300</td>\n",
       "    </tr>\n",
       "  </tbody>\n",
       "</table>\n",
       "</div>"
      ],
      "text/plain": [
       "target    0    1\n",
       "sex             \n",
       "0        86  226\n",
       "1       413  300"
      ]
     },
     "execution_count": 40,
     "metadata": {},
     "output_type": "execute_result"
    }
   ],
   "source": [
    "# Gender vs Heart disease Contingency Table \n",
    "contingency_data_gender = pd.crosstab(df_h['sex'],df_h['target'],margins = False)\n",
    "contingency_data_gender\n",
    "\n",
    "#in sex column , 0 -> Female, 1 -> Male\n",
    "#in target column , 0-> No disease, 1->HEART disease"
   ]
  },
  {
   "cell_type": "markdown",
   "id": "d4b2a586",
   "metadata": {},
   "source": [
    "<span style='color:Blue'> **Observation:** </span> \n",
    "\n",
    "The above contigency table data shows that <br>\n",
    "Females **withoout Heart Disease are 86**, and Females **with Heart disease are 226** <br>\n",
    "Males **without Heart Disease are 413** and males with **with Heart Disease are 300**\n",
    "***"
   ]
  },
  {
   "cell_type": "code",
   "execution_count": 41,
   "id": "8f9b0a80",
   "metadata": {},
   "outputs": [
    {
     "name": "stdout",
     "output_type": "stream",
     "text": [
      "target    0    1\n",
      "sex             \n",
      "0        86  226\n",
      "1       413  300\n",
      "------------------\n",
      "target    0    1\n",
      "cp              \n",
      "0       375  122\n",
      "1        33  134\n",
      "2        65  219\n",
      "3        26   51\n",
      "------------------\n",
      "target    0    1\n",
      "fbs             \n",
      "0       417  455\n",
      "1        82   71\n",
      "------------------\n",
      "target     0    1\n",
      "restecg          \n",
      "0        283  214\n",
      "1        204  309\n",
      "2         12    3\n",
      "------------------\n",
      "target    0    1\n",
      "exang           \n",
      "0       225  455\n",
      "1       274   71\n",
      "------------------\n",
      "target    0    1\n",
      "slope           \n",
      "0        46   28\n",
      "1       324  158\n",
      "2       129  340\n",
      "------------------\n",
      "target    0    1\n",
      "ca              \n",
      "0       163  415\n",
      "1       160   66\n",
      "2       113   21\n",
      "3        60    9\n",
      "4         3   15\n",
      "------------------\n",
      "target    0    1\n",
      "thal            \n",
      "0         4    3\n",
      "1        43   21\n",
      "2       132  412\n",
      "3       320   90\n",
      "------------------\n",
      "target    0    1\n",
      "target          \n",
      "0       499    0\n",
      "1         0  526\n",
      "------------------\n"
     ]
    }
   ],
   "source": [
    "#contigency data for all categorical columns\n",
    "#The contingency table is typically used to analyze the relationship between two categorical variables\n",
    "\n",
    "for i in categorical_features:\n",
    "    print(pd.crosstab(df_h[i],df_h['target'],margins = False))\n",
    "    print('------------------')"
   ]
  },
  {
   "cell_type": "markdown",
   "id": "2b03a9f9",
   "metadata": {},
   "source": [
    "### Chi square Test"
   ]
  },
  {
   "cell_type": "code",
   "execution_count": 42,
   "id": "d6ddf398",
   "metadata": {},
   "outputs": [
    {
     "name": "stdout",
     "output_type": "stream",
     "text": [
      "Test statistic=78.863, p_values=0.000, degrees_of_freedom=1\n",
      "dependent categories::There is relationship between the two categories\n"
     ]
    }
   ],
   "source": [
    "#chi-square test of independence on contingency data related to gender\n",
    "\n",
    "from scipy.stats import chi2_contingency\n",
    "\n",
    "test_stat, p_value, dof, expected = chi2_contingency(contingency_data_gender)\n",
    "\n",
    "print('Test statistic=%.3f, p_values=%.3f, degrees_of_freedom=%s' % (test_stat, p_value,dof))\n",
    "\n",
    "if p_value > 0.05:\n",
    "    print('independent categories:There is no relationship between the two categories')\n",
    "else:\n",
    "    print('dependent categories::There is relationship between the two categories')"
   ]
  },
  {
   "cell_type": "markdown",
   "id": "aa37b6e3",
   "metadata": {},
   "source": [
    " <span style='color:Blue'> **Observation:** </span> \n",
    " \n",
    "* The results indicate that there is a significant relationship between the gender variable and the target variable based on the chi-square test. The p-value of 0.000 suggests strong evidence against the null hypothesis of independence, indicating that gender and target are not independent of each other.\n",
    "\n",
    "***"
   ]
  },
  {
   "cell_type": "code",
   "execution_count": 43,
   "id": "78efa168",
   "metadata": {},
   "outputs": [
    {
     "name": "stdout",
     "output_type": "stream",
     "text": [
      "Chi square test values of sex with target are:\n",
      "Test statistic=78.863, p_values=0.000, degrees_of_freedom=1\n",
      "p_value < 0.05 , dependent categories::There is relationship between the two categories\n",
      "------------------------------------------------------------------------------------------------------------------------\n",
      "Chi square test values of cp with target are:\n",
      "Test statistic=280.982, p_values=0.000, degrees_of_freedom=3\n",
      "p_value < 0.05 , dependent categories::There is relationship between the two categories\n",
      "------------------------------------------------------------------------------------------------------------------------\n",
      "Chi square test values of fbs with target are:\n",
      "Test statistic=1.513, p_values=0.219, degrees_of_freedom=1\n",
      "p_value > 0.05 , independent categories:There is no relationship between the two categories\n",
      "------------------------------------------------------------------------------------------------------------------------\n",
      "Chi square test values of restecg with target are:\n",
      "Test statistic=35.784, p_values=0.000, degrees_of_freedom=2\n",
      "p_value < 0.05 , dependent categories::There is relationship between the two categories\n",
      "------------------------------------------------------------------------------------------------------------------------\n",
      "Chi square test values of exang with target are:\n",
      "Test statistic=194.816, p_values=0.000, degrees_of_freedom=1\n",
      "p_value < 0.05 , dependent categories::There is relationship between the two categories\n",
      "------------------------------------------------------------------------------------------------------------------------\n",
      "Chi square test values of slope with target are:\n",
      "Test statistic=155.873, p_values=0.000, degrees_of_freedom=2\n",
      "p_value < 0.05 , dependent categories::There is relationship between the two categories\n",
      "------------------------------------------------------------------------------------------------------------------------\n",
      "Chi square test values of ca with target are:\n",
      "Test statistic=257.293, p_values=0.000, degrees_of_freedom=4\n",
      "p_value < 0.05 , dependent categories::There is relationship between the two categories\n",
      "------------------------------------------------------------------------------------------------------------------------\n",
      "Chi square test values of thal with target are:\n",
      "Test statistic=280.331, p_values=0.000, degrees_of_freedom=3\n",
      "p_value < 0.05 , dependent categories::There is relationship between the two categories\n",
      "------------------------------------------------------------------------------------------------------------------------\n",
      "Chi square test values of target with target are:\n",
      "Test statistic=1021.001, p_values=0.000, degrees_of_freedom=1\n",
      "p_value < 0.05 , dependent categories::There is relationship between the two categories\n",
      "------------------------------------------------------------------------------------------------------------------------\n"
     ]
    }
   ],
   "source": [
    "# chi-square test of independence is used to assess whether there is significant relationship between two categorical variables.\n",
    "\n",
    "for i in categorical_features:\n",
    "    contingency_data = pd.crosstab(df_h[i],df_h['target'],margins = False)\n",
    "    \n",
    "    test_stat, p_value, dof, expected = chi2_contingency(contingency_data)\n",
    "    \n",
    "    print(\"Chi square test values of {} with target are:\".format(i))\n",
    "    print('Test statistic=%.3f, p_values=%.3f, degrees_of_freedom=%s' % (test_stat, p_value, dof))\n",
    "    \n",
    "    if p_value > 0.05:\n",
    "        print('p_value > 0.05 , independent categories:There is no relationship between the two categories')\n",
    "    else:\n",
    "        print('p_value < 0.05 , dependent categories::There is relationship between the two categories')\n",
    "\n",
    "    print('-'*120)\n",
    "    "
   ]
  },
  {
   "cell_type": "markdown",
   "id": "bc97c69d",
   "metadata": {},
   "source": [
    " <span style='color:Blue'> **Observation:** </span> \n",
    "\n",
    "\n",
    "* \"sex\":\n",
    "\n",
    "Test statistic: 78.863, p-value: 0.000, Degrees of freedom: 1 <br>\n",
    "The results indicate that there is a significant relationship between the \"sex\" variable and the \"target\" variable. The p-value of 0.000 suggests strong evidence against the null hypothesis of independence, indicating that gender and target are not independent of each other.\n",
    "\n",
    "* \"cp\" (chest pain type):\n",
    "\n",
    "Test statistic: 280.982, p-value: 0.000, Degrees of freedom: 3  <br>\n",
    "The results suggest a significant relationship between the \"cp\" variable and the \"target\" variable. The p-value of 0.000 indicates strong evidence against the null hypothesis of independence, suggesting that different types of chest pain are associated with different target outcomes.\n",
    "\n",
    "* \"fbs\" (fasting blood sugar):\n",
    "\n",
    "Test statistic: 1.513, p-value: 0.219, Degrees of freedom: 1  <br>\n",
    "The results do not provide strong evidence to reject the null hypothesis of independence between \"fbs\" and \"target.\" The p-value of 0.219 suggests that there is no significant relationship between fasting blood sugar and the target variable.\n",
    "\n",
    "* \"restecg\" (resting electrocardiographic results):\n",
    "\n",
    "Test statistic: 35.784, p-value: 0.000, Degrees of freedom: 2  <br>\n",
    "The results indicate a significant relationship between the \"restecg\" variable and the \"target\" variable. The p-value of 0.000 suggests strong evidence against the null hypothesis of independence, indicating that different resting electrocardiographic results are associated with different target outcomes.\n",
    "\n",
    "* \"exang\" (exercise-induced angina):\n",
    "\n",
    "Test statistic: 194.816, p-value: 0.000, Degrees of freedom: 1  <br>\n",
    "The results suggest a significant relationship between the \"exang\" variable and the \"target\" variable. The p-value of 0.000 indicates strong evidence against the null hypothesis of independence, suggesting that the presence of exercise-induced angina is associated with different target outcomes.\n",
    "\n",
    "* \"slope\":\n",
    "\n",
    "Test statistic: 155.873, p-value: 0.000, Degrees of freedom: 2  <br>\n",
    "The results indicate a significant relationship between the \"slope\" variable and the \"target\" variable. The p-value of 0.000 suggests strong evidence against the null hypothesis of independence, indicating that different slope values are associated with different target outcomes.\n",
    "\n",
    "* \"ca\" (number of major vessels):\n",
    "\n",
    "Test statistic: 257.293, p-value: 0.000, Degrees of freedom: 4  <br>\n",
    "The results suggest a significant relationship between the \"ca\" variable and the \"target\" variable. The p-value of 0.000 indicates strong evidence against the null hypothesis of independence, suggesting that the number of major vessels is associated with different target outcomes.\n",
    "\n",
    "* \"thal\" (thalassemia):\n",
    "\n",
    "Test statistic: 280.331, p-value: 0.000, Degrees of freedom: 3  <br>\n",
    "The results indicate a significant relationship between the \"thal\" variable and the \"target\" variable. The p-value of 0.000 suggests strong evidence against the null hypothesis of independence.\n",
    "\n",
    "***"
   ]
  },
  {
   "cell_type": "markdown",
   "id": "7d27f73f",
   "metadata": {},
   "source": [
    "### Covariance"
   ]
  },
  {
   "cell_type": "code",
   "execution_count": 44,
   "id": "384f7424",
   "metadata": {},
   "outputs": [
    {
     "data": {
      "text/html": [
       "<div>\n",
       "<style scoped>\n",
       "    .dataframe tbody tr th:only-of-type {\n",
       "        vertical-align: middle;\n",
       "    }\n",
       "\n",
       "    .dataframe tbody tr th {\n",
       "        vertical-align: top;\n",
       "    }\n",
       "\n",
       "    .dataframe thead th {\n",
       "        text-align: right;\n",
       "    }\n",
       "</style>\n",
       "<table border=\"1\" class=\"dataframe\">\n",
       "  <thead>\n",
       "    <tr style=\"text-align: right;\">\n",
       "      <th></th>\n",
       "      <th>age</th>\n",
       "      <th>sex</th>\n",
       "      <th>cp</th>\n",
       "      <th>trestbps</th>\n",
       "      <th>chol</th>\n",
       "      <th>fbs</th>\n",
       "      <th>restecg</th>\n",
       "      <th>thalach</th>\n",
       "      <th>exang</th>\n",
       "      <th>oldpeak</th>\n",
       "      <th>slope</th>\n",
       "      <th>ca</th>\n",
       "      <th>thal</th>\n",
       "      <th>target</th>\n",
       "    </tr>\n",
       "  </thead>\n",
       "  <tbody>\n",
       "    <tr>\n",
       "      <th>age</th>\n",
       "      <td>82.306450</td>\n",
       "      <td>-0.431198</td>\n",
       "      <td>-0.672251</td>\n",
       "      <td>43.085733</td>\n",
       "      <td>102.890625</td>\n",
       "      <td>0.392164</td>\n",
       "      <td>-0.635490</td>\n",
       "      <td>-81.446089</td>\n",
       "      <td>0.378144</td>\n",
       "      <td>2.218825</td>\n",
       "      <td>-0.947742</td>\n",
       "      <td>2.539458</td>\n",
       "      <td>0.407093</td>\n",
       "      <td>-1.040392</td>\n",
       "    </tr>\n",
       "    <tr>\n",
       "      <th>sex</th>\n",
       "      <td>-0.431198</td>\n",
       "      <td>0.211944</td>\n",
       "      <td>-0.019491</td>\n",
       "      <td>-0.636863</td>\n",
       "      <td>-4.708984</td>\n",
       "      <td>0.004465</td>\n",
       "      <td>-0.013395</td>\n",
       "      <td>-0.522838</td>\n",
       "      <td>0.030288</td>\n",
       "      <td>0.045812</td>\n",
       "      <td>-0.007584</td>\n",
       "      <td>0.053021</td>\n",
       "      <td>0.056697</td>\n",
       "      <td>-0.064346</td>\n",
       "    </tr>\n",
       "    <tr>\n",
       "      <th>cp</th>\n",
       "      <td>-0.672251</td>\n",
       "      <td>-0.019491</td>\n",
       "      <td>1.060160</td>\n",
       "      <td>0.688565</td>\n",
       "      <td>-4.336914</td>\n",
       "      <td>0.029108</td>\n",
       "      <td>0.023687</td>\n",
       "      <td>7.268296</td>\n",
       "      <td>-0.195451</td>\n",
       "      <td>-0.211407</td>\n",
       "      <td>0.083727</td>\n",
       "      <td>-0.187017</td>\n",
       "      <td>-0.104385</td>\n",
       "      <td>0.223903</td>\n",
       "    </tr>\n",
       "    <tr>\n",
       "      <th>trestbps</th>\n",
       "      <td>43.085733</td>\n",
       "      <td>-0.636863</td>\n",
       "      <td>0.688565</td>\n",
       "      <td>306.835410</td>\n",
       "      <td>115.657227</td>\n",
       "      <td>1.135165</td>\n",
       "      <td>-1.144685</td>\n",
       "      <td>-15.822822</td>\n",
       "      <td>0.506798</td>\n",
       "      <td>3.857971</td>\n",
       "      <td>-1.303344</td>\n",
       "      <td>1.887842</td>\n",
       "      <td>0.644446</td>\n",
       "      <td>-1.215584</td>\n",
       "    </tr>\n",
       "    <tr>\n",
       "      <th>chol</th>\n",
       "      <td>102.890625</td>\n",
       "      <td>-4.708984</td>\n",
       "      <td>-4.336914</td>\n",
       "      <td>115.657227</td>\n",
       "      <td>2661.787109</td>\n",
       "      <td>0.495117</td>\n",
       "      <td>-4.014648</td>\n",
       "      <td>-25.841797</td>\n",
       "      <td>1.643555</td>\n",
       "      <td>3.933301</td>\n",
       "      <td>-0.454102</td>\n",
       "      <td>3.949219</td>\n",
       "      <td>3.209961</td>\n",
       "      <td>-2.579102</td>\n",
       "    </tr>\n",
       "    <tr>\n",
       "      <th>fbs</th>\n",
       "      <td>0.392164</td>\n",
       "      <td>0.004465</td>\n",
       "      <td>0.029108</td>\n",
       "      <td>1.135165</td>\n",
       "      <td>0.495117</td>\n",
       "      <td>0.127111</td>\n",
       "      <td>-0.019583</td>\n",
       "      <td>-0.072719</td>\n",
       "      <td>0.008303</td>\n",
       "      <td>0.004549</td>\n",
       "      <td>-0.013634</td>\n",
       "      <td>0.050406</td>\n",
       "      <td>-0.009333</td>\n",
       "      <td>-0.007339</td>\n",
       "    </tr>\n",
       "    <tr>\n",
       "      <th>restecg</th>\n",
       "      <td>-0.635490</td>\n",
       "      <td>-0.013395</td>\n",
       "      <td>0.023687</td>\n",
       "      <td>-1.144685</td>\n",
       "      <td>-4.014648</td>\n",
       "      <td>-0.019583</td>\n",
       "      <td>0.278655</td>\n",
       "      <td>0.587909</td>\n",
       "      <td>-0.016373</td>\n",
       "      <td>-0.031085</td>\n",
       "      <td>0.028073</td>\n",
       "      <td>-0.042482</td>\n",
       "      <td>-0.006718</td>\n",
       "      <td>0.035496</td>\n",
       "    </tr>\n",
       "    <tr>\n",
       "      <th>thalach</th>\n",
       "      <td>-81.446089</td>\n",
       "      <td>-0.522838</td>\n",
       "      <td>7.268296</td>\n",
       "      <td>-15.822822</td>\n",
       "      <td>-25.841797</td>\n",
       "      <td>-0.072719</td>\n",
       "      <td>0.587909</td>\n",
       "      <td>529.263325</td>\n",
       "      <td>-4.136114</td>\n",
       "      <td>-9.456022</td>\n",
       "      <td>5.618078</td>\n",
       "      <td>-4.929917</td>\n",
       "      <td>-1.400290</td>\n",
       "      <td>4.865194</td>\n",
       "    </tr>\n",
       "    <tr>\n",
       "      <th>exang</th>\n",
       "      <td>0.378144</td>\n",
       "      <td>0.030288</td>\n",
       "      <td>-0.195451</td>\n",
       "      <td>0.506798</td>\n",
       "      <td>1.643555</td>\n",
       "      <td>0.008303</td>\n",
       "      <td>-0.016373</td>\n",
       "      <td>-4.136114</td>\n",
       "      <td>0.223514</td>\n",
       "      <td>0.172684</td>\n",
       "      <td>-0.078077</td>\n",
       "      <td>0.052558</td>\n",
       "      <td>0.057865</td>\n",
       "      <td>-0.103558</td>\n",
       "    </tr>\n",
       "    <tr>\n",
       "      <th>oldpeak</th>\n",
       "      <td>2.218825</td>\n",
       "      <td>0.045812</td>\n",
       "      <td>-0.211407</td>\n",
       "      <td>3.857971</td>\n",
       "      <td>3.933301</td>\n",
       "      <td>0.004549</td>\n",
       "      <td>-0.031085</td>\n",
       "      <td>-9.456022</td>\n",
       "      <td>0.172684</td>\n",
       "      <td>1.380750</td>\n",
       "      <td>-0.417527</td>\n",
       "      <td>0.268673</td>\n",
       "      <td>0.147810</td>\n",
       "      <td>-0.257632</td>\n",
       "    </tr>\n",
       "    <tr>\n",
       "      <th>slope</th>\n",
       "      <td>-0.947742</td>\n",
       "      <td>-0.007584</td>\n",
       "      <td>0.083727</td>\n",
       "      <td>-1.303344</td>\n",
       "      <td>-0.454102</td>\n",
       "      <td>-0.013634</td>\n",
       "      <td>0.028073</td>\n",
       "      <td>5.618078</td>\n",
       "      <td>-0.078077</td>\n",
       "      <td>-0.417527</td>\n",
       "      <td>0.381622</td>\n",
       "      <td>-0.046765</td>\n",
       "      <td>-0.036076</td>\n",
       "      <td>0.106736</td>\n",
       "    </tr>\n",
       "    <tr>\n",
       "      <th>ca</th>\n",
       "      <td>2.539458</td>\n",
       "      <td>0.053021</td>\n",
       "      <td>-0.187017</td>\n",
       "      <td>1.887842</td>\n",
       "      <td>3.949219</td>\n",
       "      <td>0.050406</td>\n",
       "      <td>-0.042482</td>\n",
       "      <td>-4.929917</td>\n",
       "      <td>0.052558</td>\n",
       "      <td>0.268673</td>\n",
       "      <td>-0.046765</td>\n",
       "      <td>1.062544</td>\n",
       "      <td>0.095335</td>\n",
       "      <td>-0.196954</td>\n",
       "    </tr>\n",
       "    <tr>\n",
       "      <th>thal</th>\n",
       "      <td>0.407093</td>\n",
       "      <td>0.056697</td>\n",
       "      <td>-0.104385</td>\n",
       "      <td>0.644446</td>\n",
       "      <td>3.209961</td>\n",
       "      <td>-0.009333</td>\n",
       "      <td>-0.006718</td>\n",
       "      <td>-1.400290</td>\n",
       "      <td>0.057865</td>\n",
       "      <td>0.147810</td>\n",
       "      <td>-0.036076</td>\n",
       "      <td>0.095335</td>\n",
       "      <td>0.385219</td>\n",
       "      <td>-0.104856</td>\n",
       "    </tr>\n",
       "    <tr>\n",
       "      <th>target</th>\n",
       "      <td>-1.040392</td>\n",
       "      <td>-0.064346</td>\n",
       "      <td>0.223903</td>\n",
       "      <td>-1.215584</td>\n",
       "      <td>-2.579102</td>\n",
       "      <td>-0.007339</td>\n",
       "      <td>0.035496</td>\n",
       "      <td>4.865194</td>\n",
       "      <td>-0.103558</td>\n",
       "      <td>-0.257632</td>\n",
       "      <td>0.106736</td>\n",
       "      <td>-0.196954</td>\n",
       "      <td>-0.104856</td>\n",
       "      <td>0.250071</td>\n",
       "    </tr>\n",
       "  </tbody>\n",
       "</table>\n",
       "</div>"
      ],
      "text/plain": [
       "                 age       sex        cp    trestbps         chol       fbs  \\\n",
       "age        82.306450 -0.431198 -0.672251   43.085733   102.890625  0.392164   \n",
       "sex        -0.431198  0.211944 -0.019491   -0.636863    -4.708984  0.004465   \n",
       "cp         -0.672251 -0.019491  1.060160    0.688565    -4.336914  0.029108   \n",
       "trestbps   43.085733 -0.636863  0.688565  306.835410   115.657227  1.135165   \n",
       "chol      102.890625 -4.708984 -4.336914  115.657227  2661.787109  0.495117   \n",
       "fbs         0.392164  0.004465  0.029108    1.135165     0.495117  0.127111   \n",
       "restecg    -0.635490 -0.013395  0.023687   -1.144685    -4.014648 -0.019583   \n",
       "thalach   -81.446089 -0.522838  7.268296  -15.822822   -25.841797 -0.072719   \n",
       "exang       0.378144  0.030288 -0.195451    0.506798     1.643555  0.008303   \n",
       "oldpeak     2.218825  0.045812 -0.211407    3.857971     3.933301  0.004549   \n",
       "slope      -0.947742 -0.007584  0.083727   -1.303344    -0.454102 -0.013634   \n",
       "ca          2.539458  0.053021 -0.187017    1.887842     3.949219  0.050406   \n",
       "thal        0.407093  0.056697 -0.104385    0.644446     3.209961 -0.009333   \n",
       "target     -1.040392 -0.064346  0.223903   -1.215584    -2.579102 -0.007339   \n",
       "\n",
       "           restecg     thalach     exang   oldpeak     slope        ca  \\\n",
       "age      -0.635490  -81.446089  0.378144  2.218825 -0.947742  2.539458   \n",
       "sex      -0.013395   -0.522838  0.030288  0.045812 -0.007584  0.053021   \n",
       "cp        0.023687    7.268296 -0.195451 -0.211407  0.083727 -0.187017   \n",
       "trestbps -1.144685  -15.822822  0.506798  3.857971 -1.303344  1.887842   \n",
       "chol     -4.014648  -25.841797  1.643555  3.933301 -0.454102  3.949219   \n",
       "fbs      -0.019583   -0.072719  0.008303  0.004549 -0.013634  0.050406   \n",
       "restecg   0.278655    0.587909 -0.016373 -0.031085  0.028073 -0.042482   \n",
       "thalach   0.587909  529.263325 -4.136114 -9.456022  5.618078 -4.929917   \n",
       "exang    -0.016373   -4.136114  0.223514  0.172684 -0.078077  0.052558   \n",
       "oldpeak  -0.031085   -9.456022  0.172684  1.380750 -0.417527  0.268673   \n",
       "slope     0.028073    5.618078 -0.078077 -0.417527  0.381622 -0.046765   \n",
       "ca       -0.042482   -4.929917  0.052558  0.268673 -0.046765  1.062544   \n",
       "thal     -0.006718   -1.400290  0.057865  0.147810 -0.036076  0.095335   \n",
       "target    0.035496    4.865194 -0.103558 -0.257632  0.106736 -0.196954   \n",
       "\n",
       "              thal    target  \n",
       "age       0.407093 -1.040392  \n",
       "sex       0.056697 -0.064346  \n",
       "cp       -0.104385  0.223903  \n",
       "trestbps  0.644446 -1.215584  \n",
       "chol      3.209961 -2.579102  \n",
       "fbs      -0.009333 -0.007339  \n",
       "restecg  -0.006718  0.035496  \n",
       "thalach  -1.400290  4.865194  \n",
       "exang     0.057865 -0.103558  \n",
       "oldpeak   0.147810 -0.257632  \n",
       "slope    -0.036076  0.106736  \n",
       "ca        0.095335 -0.196954  \n",
       "thal      0.385219 -0.104856  \n",
       "target   -0.104856  0.250071  "
      ]
     },
     "execution_count": 44,
     "metadata": {},
     "output_type": "execute_result"
    }
   ],
   "source": [
    "#covariance\n",
    "#Covariance measures the relationship and variability between two variables.\n",
    "\n",
    "df_h.cov()"
   ]
  },
  {
   "cell_type": "code",
   "execution_count": 45,
   "id": "5b64e51f",
   "metadata": {},
   "outputs": [
    {
     "name": "stdout",
     "output_type": "stream",
     "text": [
      "thalach     4.865194\n",
      "target      0.250071\n",
      "cp          0.223903\n",
      "slope       0.106736\n",
      "restecg     0.035496\n",
      "fbs        -0.007339\n",
      "sex        -0.064346\n",
      "exang      -0.103558\n",
      "thal       -0.104856\n",
      "ca         -0.196954\n",
      "oldpeak    -0.257632\n",
      "age        -1.040392\n",
      "trestbps   -1.215584\n",
      "chol       -2.579102\n",
      "Name: target, dtype: float64\n"
     ]
    }
   ],
   "source": [
    "# covariance values for each column in the DataFrame, specifically with respect to the \"target\" column. \n",
    "print(df_h.cov()[\"target\"].sort_values(ascending=False))"
   ]
  },
  {
   "cell_type": "markdown",
   "id": "3cc97e7d",
   "metadata": {},
   "source": [
    "<span style='color:Blue'> **Observation:** </span> \n",
    "\n",
    "* \"thalach\" has the highest covariance value of 4.865194. This suggests a strong positive relationship between \"thalach\" (maximum heart rate achieved) and the \"target\" variable. <br>\n",
    "\n",
    "* \"chol\" has a covariance value of 2.579102, indicating a positive relationship with the \"target\" variable, but slightly weaker than \"thalach\".\n",
    "\n",
    "* \"trestbps\" (resting blood pressure) and \"age\" have covariance values of 1.215584 and 1.040392, respectively. They also exhibit positive relationships with the \"target\" variable, but the strength of the relationships is lower than that of \"thalach\" and \"chol\".\n",
    "\n",
    "* \"oldpeak\", \"target\", \"cp\" (chest pain type), and \"ca\" (number of major vessels) have relatively smaller positive covariance values, indicating a moderate relationship with the \"target\" variable.\n",
    "\n",
    "* \"slope\", \"thal\", \"exang\" (exercise-induced angina), \"sex\", \"restecg\" (resting electrocardiographic results), and \"fbs\" (fasting blood sugar) have even smaller covariance values, suggesting weaker relationships with the \"target\" variable.\n",
    "\n",
    "***"
   ]
  },
  {
   "cell_type": "markdown",
   "id": "3c3d3fd1",
   "metadata": {},
   "source": [
    "### Correlation"
   ]
  },
  {
   "cell_type": "code",
   "execution_count": 46,
   "id": "e37d92c0",
   "metadata": {},
   "outputs": [
    {
     "data": {
      "text/html": [
       "<div>\n",
       "<style scoped>\n",
       "    .dataframe tbody tr th:only-of-type {\n",
       "        vertical-align: middle;\n",
       "    }\n",
       "\n",
       "    .dataframe tbody tr th {\n",
       "        vertical-align: top;\n",
       "    }\n",
       "\n",
       "    .dataframe thead th {\n",
       "        text-align: right;\n",
       "    }\n",
       "</style>\n",
       "<table border=\"1\" class=\"dataframe\">\n",
       "  <thead>\n",
       "    <tr style=\"text-align: right;\">\n",
       "      <th></th>\n",
       "      <th>age</th>\n",
       "      <th>sex</th>\n",
       "      <th>cp</th>\n",
       "      <th>trestbps</th>\n",
       "      <th>chol</th>\n",
       "      <th>fbs</th>\n",
       "      <th>restecg</th>\n",
       "      <th>thalach</th>\n",
       "      <th>exang</th>\n",
       "      <th>oldpeak</th>\n",
       "      <th>slope</th>\n",
       "      <th>ca</th>\n",
       "      <th>thal</th>\n",
       "      <th>target</th>\n",
       "    </tr>\n",
       "  </thead>\n",
       "  <tbody>\n",
       "    <tr>\n",
       "      <th>age</th>\n",
       "      <td>1.000000</td>\n",
       "      <td>-0.103240</td>\n",
       "      <td>-0.071966</td>\n",
       "      <td>0.271121</td>\n",
       "      <td>0.219823</td>\n",
       "      <td>0.121243</td>\n",
       "      <td>-0.132696</td>\n",
       "      <td>-0.390227</td>\n",
       "      <td>0.088163</td>\n",
       "      <td>0.208137</td>\n",
       "      <td>-0.169105</td>\n",
       "      <td>0.271551</td>\n",
       "      <td>0.072297</td>\n",
       "      <td>-0.229324</td>\n",
       "    </tr>\n",
       "    <tr>\n",
       "      <th>sex</th>\n",
       "      <td>-0.103240</td>\n",
       "      <td>1.000000</td>\n",
       "      <td>-0.041119</td>\n",
       "      <td>-0.078974</td>\n",
       "      <td>-0.198258</td>\n",
       "      <td>0.027200</td>\n",
       "      <td>-0.055117</td>\n",
       "      <td>-0.049365</td>\n",
       "      <td>0.139157</td>\n",
       "      <td>0.084687</td>\n",
       "      <td>-0.026666</td>\n",
       "      <td>0.111729</td>\n",
       "      <td>0.198424</td>\n",
       "      <td>-0.279501</td>\n",
       "    </tr>\n",
       "    <tr>\n",
       "      <th>cp</th>\n",
       "      <td>-0.071966</td>\n",
       "      <td>-0.041119</td>\n",
       "      <td>1.000000</td>\n",
       "      <td>0.038177</td>\n",
       "      <td>-0.081641</td>\n",
       "      <td>0.079294</td>\n",
       "      <td>0.043581</td>\n",
       "      <td>0.306839</td>\n",
       "      <td>-0.401513</td>\n",
       "      <td>-0.174733</td>\n",
       "      <td>0.131633</td>\n",
       "      <td>-0.176206</td>\n",
       "      <td>-0.163341</td>\n",
       "      <td>0.434854</td>\n",
       "    </tr>\n",
       "    <tr>\n",
       "      <th>trestbps</th>\n",
       "      <td>0.271121</td>\n",
       "      <td>-0.078974</td>\n",
       "      <td>0.038177</td>\n",
       "      <td>1.000000</td>\n",
       "      <td>0.127977</td>\n",
       "      <td>0.181767</td>\n",
       "      <td>-0.123794</td>\n",
       "      <td>-0.039264</td>\n",
       "      <td>0.061197</td>\n",
       "      <td>0.187434</td>\n",
       "      <td>-0.120445</td>\n",
       "      <td>0.104554</td>\n",
       "      <td>0.059276</td>\n",
       "      <td>-0.138772</td>\n",
       "    </tr>\n",
       "    <tr>\n",
       "      <th>chol</th>\n",
       "      <td>0.219823</td>\n",
       "      <td>-0.198258</td>\n",
       "      <td>-0.081641</td>\n",
       "      <td>0.127977</td>\n",
       "      <td>1.000000</td>\n",
       "      <td>0.026917</td>\n",
       "      <td>-0.147410</td>\n",
       "      <td>-0.021772</td>\n",
       "      <td>0.067382</td>\n",
       "      <td>0.064880</td>\n",
       "      <td>-0.014248</td>\n",
       "      <td>0.074259</td>\n",
       "      <td>0.100244</td>\n",
       "      <td>-0.099966</td>\n",
       "    </tr>\n",
       "    <tr>\n",
       "      <th>fbs</th>\n",
       "      <td>0.121243</td>\n",
       "      <td>0.027200</td>\n",
       "      <td>0.079294</td>\n",
       "      <td>0.181767</td>\n",
       "      <td>0.026917</td>\n",
       "      <td>1.000000</td>\n",
       "      <td>-0.104051</td>\n",
       "      <td>-0.008866</td>\n",
       "      <td>0.049261</td>\n",
       "      <td>0.010859</td>\n",
       "      <td>-0.061902</td>\n",
       "      <td>0.137156</td>\n",
       "      <td>-0.042177</td>\n",
       "      <td>-0.041164</td>\n",
       "    </tr>\n",
       "    <tr>\n",
       "      <th>restecg</th>\n",
       "      <td>-0.132696</td>\n",
       "      <td>-0.055117</td>\n",
       "      <td>0.043581</td>\n",
       "      <td>-0.123794</td>\n",
       "      <td>-0.147410</td>\n",
       "      <td>-0.104051</td>\n",
       "      <td>1.000000</td>\n",
       "      <td>0.048411</td>\n",
       "      <td>-0.065606</td>\n",
       "      <td>-0.050114</td>\n",
       "      <td>0.086086</td>\n",
       "      <td>-0.078072</td>\n",
       "      <td>-0.020504</td>\n",
       "      <td>0.134468</td>\n",
       "    </tr>\n",
       "    <tr>\n",
       "      <th>thalach</th>\n",
       "      <td>-0.390227</td>\n",
       "      <td>-0.049365</td>\n",
       "      <td>0.306839</td>\n",
       "      <td>-0.039264</td>\n",
       "      <td>-0.021772</td>\n",
       "      <td>-0.008866</td>\n",
       "      <td>0.048411</td>\n",
       "      <td>1.000000</td>\n",
       "      <td>-0.380281</td>\n",
       "      <td>-0.349796</td>\n",
       "      <td>0.395308</td>\n",
       "      <td>-0.207888</td>\n",
       "      <td>-0.098068</td>\n",
       "      <td>0.422895</td>\n",
       "    </tr>\n",
       "    <tr>\n",
       "      <th>exang</th>\n",
       "      <td>0.088163</td>\n",
       "      <td>0.139157</td>\n",
       "      <td>-0.401513</td>\n",
       "      <td>0.061197</td>\n",
       "      <td>0.067382</td>\n",
       "      <td>0.049261</td>\n",
       "      <td>-0.065606</td>\n",
       "      <td>-0.380281</td>\n",
       "      <td>1.000000</td>\n",
       "      <td>0.310844</td>\n",
       "      <td>-0.267335</td>\n",
       "      <td>0.107849</td>\n",
       "      <td>0.197201</td>\n",
       "      <td>-0.438029</td>\n",
       "    </tr>\n",
       "    <tr>\n",
       "      <th>oldpeak</th>\n",
       "      <td>0.208137</td>\n",
       "      <td>0.084687</td>\n",
       "      <td>-0.174733</td>\n",
       "      <td>0.187434</td>\n",
       "      <td>0.064880</td>\n",
       "      <td>0.010859</td>\n",
       "      <td>-0.050114</td>\n",
       "      <td>-0.349796</td>\n",
       "      <td>0.310844</td>\n",
       "      <td>1.000000</td>\n",
       "      <td>-0.575189</td>\n",
       "      <td>0.221816</td>\n",
       "      <td>0.202672</td>\n",
       "      <td>-0.438441</td>\n",
       "    </tr>\n",
       "    <tr>\n",
       "      <th>slope</th>\n",
       "      <td>-0.169105</td>\n",
       "      <td>-0.026666</td>\n",
       "      <td>0.131633</td>\n",
       "      <td>-0.120445</td>\n",
       "      <td>-0.014248</td>\n",
       "      <td>-0.061902</td>\n",
       "      <td>0.086086</td>\n",
       "      <td>0.395308</td>\n",
       "      <td>-0.267335</td>\n",
       "      <td>-0.575189</td>\n",
       "      <td>1.000000</td>\n",
       "      <td>-0.073440</td>\n",
       "      <td>-0.094090</td>\n",
       "      <td>0.345512</td>\n",
       "    </tr>\n",
       "    <tr>\n",
       "      <th>ca</th>\n",
       "      <td>0.271551</td>\n",
       "      <td>0.111729</td>\n",
       "      <td>-0.176206</td>\n",
       "      <td>0.104554</td>\n",
       "      <td>0.074259</td>\n",
       "      <td>0.137156</td>\n",
       "      <td>-0.078072</td>\n",
       "      <td>-0.207888</td>\n",
       "      <td>0.107849</td>\n",
       "      <td>0.221816</td>\n",
       "      <td>-0.073440</td>\n",
       "      <td>1.000000</td>\n",
       "      <td>0.149014</td>\n",
       "      <td>-0.382085</td>\n",
       "    </tr>\n",
       "    <tr>\n",
       "      <th>thal</th>\n",
       "      <td>0.072297</td>\n",
       "      <td>0.198424</td>\n",
       "      <td>-0.163341</td>\n",
       "      <td>0.059276</td>\n",
       "      <td>0.100244</td>\n",
       "      <td>-0.042177</td>\n",
       "      <td>-0.020504</td>\n",
       "      <td>-0.098068</td>\n",
       "      <td>0.197201</td>\n",
       "      <td>0.202672</td>\n",
       "      <td>-0.094090</td>\n",
       "      <td>0.149014</td>\n",
       "      <td>1.000000</td>\n",
       "      <td>-0.337838</td>\n",
       "    </tr>\n",
       "    <tr>\n",
       "      <th>target</th>\n",
       "      <td>-0.229324</td>\n",
       "      <td>-0.279501</td>\n",
       "      <td>0.434854</td>\n",
       "      <td>-0.138772</td>\n",
       "      <td>-0.099966</td>\n",
       "      <td>-0.041164</td>\n",
       "      <td>0.134468</td>\n",
       "      <td>0.422895</td>\n",
       "      <td>-0.438029</td>\n",
       "      <td>-0.438441</td>\n",
       "      <td>0.345512</td>\n",
       "      <td>-0.382085</td>\n",
       "      <td>-0.337838</td>\n",
       "      <td>1.000000</td>\n",
       "    </tr>\n",
       "  </tbody>\n",
       "</table>\n",
       "</div>"
      ],
      "text/plain": [
       "               age       sex        cp  trestbps      chol       fbs  \\\n",
       "age       1.000000 -0.103240 -0.071966  0.271121  0.219823  0.121243   \n",
       "sex      -0.103240  1.000000 -0.041119 -0.078974 -0.198258  0.027200   \n",
       "cp       -0.071966 -0.041119  1.000000  0.038177 -0.081641  0.079294   \n",
       "trestbps  0.271121 -0.078974  0.038177  1.000000  0.127977  0.181767   \n",
       "chol      0.219823 -0.198258 -0.081641  0.127977  1.000000  0.026917   \n",
       "fbs       0.121243  0.027200  0.079294  0.181767  0.026917  1.000000   \n",
       "restecg  -0.132696 -0.055117  0.043581 -0.123794 -0.147410 -0.104051   \n",
       "thalach  -0.390227 -0.049365  0.306839 -0.039264 -0.021772 -0.008866   \n",
       "exang     0.088163  0.139157 -0.401513  0.061197  0.067382  0.049261   \n",
       "oldpeak   0.208137  0.084687 -0.174733  0.187434  0.064880  0.010859   \n",
       "slope    -0.169105 -0.026666  0.131633 -0.120445 -0.014248 -0.061902   \n",
       "ca        0.271551  0.111729 -0.176206  0.104554  0.074259  0.137156   \n",
       "thal      0.072297  0.198424 -0.163341  0.059276  0.100244 -0.042177   \n",
       "target   -0.229324 -0.279501  0.434854 -0.138772 -0.099966 -0.041164   \n",
       "\n",
       "           restecg   thalach     exang   oldpeak     slope        ca  \\\n",
       "age      -0.132696 -0.390227  0.088163  0.208137 -0.169105  0.271551   \n",
       "sex      -0.055117 -0.049365  0.139157  0.084687 -0.026666  0.111729   \n",
       "cp        0.043581  0.306839 -0.401513 -0.174733  0.131633 -0.176206   \n",
       "trestbps -0.123794 -0.039264  0.061197  0.187434 -0.120445  0.104554   \n",
       "chol     -0.147410 -0.021772  0.067382  0.064880 -0.014248  0.074259   \n",
       "fbs      -0.104051 -0.008866  0.049261  0.010859 -0.061902  0.137156   \n",
       "restecg   1.000000  0.048411 -0.065606 -0.050114  0.086086 -0.078072   \n",
       "thalach   0.048411  1.000000 -0.380281 -0.349796  0.395308 -0.207888   \n",
       "exang    -0.065606 -0.380281  1.000000  0.310844 -0.267335  0.107849   \n",
       "oldpeak  -0.050114 -0.349796  0.310844  1.000000 -0.575189  0.221816   \n",
       "slope     0.086086  0.395308 -0.267335 -0.575189  1.000000 -0.073440   \n",
       "ca       -0.078072 -0.207888  0.107849  0.221816 -0.073440  1.000000   \n",
       "thal     -0.020504 -0.098068  0.197201  0.202672 -0.094090  0.149014   \n",
       "target    0.134468  0.422895 -0.438029 -0.438441  0.345512 -0.382085   \n",
       "\n",
       "              thal    target  \n",
       "age       0.072297 -0.229324  \n",
       "sex       0.198424 -0.279501  \n",
       "cp       -0.163341  0.434854  \n",
       "trestbps  0.059276 -0.138772  \n",
       "chol      0.100244 -0.099966  \n",
       "fbs      -0.042177 -0.041164  \n",
       "restecg  -0.020504  0.134468  \n",
       "thalach  -0.098068  0.422895  \n",
       "exang     0.197201 -0.438029  \n",
       "oldpeak   0.202672 -0.438441  \n",
       "slope    -0.094090  0.345512  \n",
       "ca        0.149014 -0.382085  \n",
       "thal      1.000000 -0.337838  \n",
       "target   -0.337838  1.000000  "
      ]
     },
     "execution_count": 46,
     "metadata": {},
     "output_type": "execute_result"
    }
   ],
   "source": [
    "# correlation coefficient\n",
    "\n",
    "df_h.corr()"
   ]
  },
  {
   "cell_type": "code",
   "execution_count": 47,
   "id": "d1db4666",
   "metadata": {},
   "outputs": [
    {
     "data": {
      "image/png": "[encoded data removed]",
      "text/plain": [
       "<Figure size 1080x1080 with 2 Axes>"
      ]
     },
     "metadata": {},
     "output_type": "display_data"
    }
   ],
   "source": [
    "# The correlation matrix measures the linear relationship between pairs of variables in the DataFrame.\n",
    "\n",
    "fig, ax = plt.subplots(figsize=(15, 15))\n",
    " \n",
    "# drawing the plot\n",
    "\n",
    "sns.heatmap(data=df_h.corr(),annot=True) # values of Pearson coefficient\n",
    "\n",
    "plt.show()"
   ]
  },
  {
   "cell_type": "code",
   "execution_count": 48,
   "id": "13d40ff9",
   "metadata": {},
   "outputs": [
    {
     "name": "stdout",
     "output_type": "stream",
     "text": [
      "target      1.000000\n",
      "oldpeak     0.438441\n",
      "exang       0.438029\n",
      "cp          0.434854\n",
      "thalach     0.422895\n",
      "ca          0.382085\n",
      "slope       0.345512\n",
      "thal        0.337838\n",
      "sex         0.279501\n",
      "age         0.229324\n",
      "trestbps    0.138772\n",
      "restecg     0.134468\n",
      "chol        0.099966\n",
      "fbs         0.041164\n",
      "Name: target, dtype: float64\n"
     ]
    }
   ],
   "source": [
    "# correlation coefficients between the \"target\" variable and other variables\n",
    "print(df_h.corr()[\"target\"].abs().sort_values(ascending=False))"
   ]
  },
  {
   "cell_type": "markdown",
   "id": "fb1b88de",
   "metadata": {},
   "source": [
    "<span style='color:Blue'> **Observation:** </span> \n",
    "    \n",
    "* \"target\" has a correlation coefficient of 1. This indicates a perfect positive linear relationship between the \"target\" variable and itself, which is expected.\n",
    "\n",
    "* \"oldpeak\" and \"exang\" (exercise-induced angina) have correlation coefficients of 0.438441 and 0.438029, respectively. These values indicate a moderately strong positive linear relationship with the \"target\" variable.\n",
    "\n",
    "* \"cp\" (chest pain type) and \"thalach\" (maximum heart rate achieved) have correlation coefficients of 0.434854 and 0.422895, respectively. These variables also show a moderately strong positive linear relationship with the \"target\" variable.\n",
    "\n",
    "* \"ca\" (number of major vessels) and \"slope\" have correlation coefficients of 0.382085 and 0.345512, respectively. These variables exhibit a moderate positive linear relationship with the \"target\" variable.\n",
    "\n",
    "* \"thal\" (thalassemia), \"sex\", \"age\", \"trestbps\" (resting blood pressure), and \"restecg\" (resting electrocardiographic results) have correlation coefficients ranging from 0.337838 to 0.229324. These variables show a relatively weaker positive linear relationship with the \"target\" variable.\n",
    "\n",
    "* \"chol\" (serum cholesterol) and \"fbs\" (fasting blood sugar) have correlation coefficients of 0.099966 and 0.041164, respectively. These variables have very weak positive linear relationships with the \"target\" variable.\n",
    "\n",
    "***"
   ]
  },
  {
   "cell_type": "markdown",
   "id": "1c046f6e",
   "metadata": {},
   "source": [
    "## Overall Iterpretation of the dataset "
   ]
  },
  {
   "cell_type": "markdown",
   "id": "bf959762",
   "metadata": {},
   "source": [
    "\n",
    "\n",
    "1. Age and Heart Disease: The number of individuals with heart disease seems to increase gradually with age, peaking around the age of 58 and 57 with 24 and 36 individuals, respectively. There are certain age groups (e.g., 35, 44, 55, and 61) where the number of individuals with heart disease is higher than those without heart disease. On the other hand, there are age groups (e.g., 71, 74, 76, and 77) where there are no individuals with heart disease.\n",
    "\n",
    "2. Gender and Heart Disease: Females are more likely to have heart problems than males. This is evident from the contigency table data that shows more females with heart disease compared to males.\n",
    "\n",
    "3. Chest Pain and Heart Disease: Individuals with chest pain type \"0\" (typical angina) are much less likely to have heart problems compared to other types of chest pain.\n",
    "\n",
    "4. Resting Electrocardiographic Results and Heart Disease: Individuals with restecg values \"1\" and \"0\" are much more likely to have heart disease than those with restecg \"2\".\n",
    "\n",
    "5. Exercise Induced Angina and Heart Disease: People with exang=1 (exercise-induced angina) are much less likely to have heart problems.\n",
    "\n",
    "6. Slope and Heart Disease: Slope \"2\" causes heart pain much more than slope \"0\" and \"1\".\n",
    "\n",
    "7. Number of Major Vessels and Heart Disease: The number of major vessels \"ca=4\" has a surprisingly large number of heart patients.\n",
    "\n",
    "8. Chi-Square Test: The chi-square test indicates a significant relationship between gender and the target variable, suggesting that gender and heart disease are not independent of each other.\n",
    "\n",
    "9. Covariance: Several variables, such as \"thalach\" (maximum heart rate achieved) and \"chol\" (serum cholesterol), show a positive relationship with the \"target\" variable based on their covariance values.\n",
    "\n",
    "10. Correlation: The correlation coefficients show the strength and direction of the linear relationship between variables and the \"target\" variable. For example, \"thalach\" and \"oldpeak\" have moderately strong positive correlations with the \"target\" variable.\n",
    "\n",
    "These observations provide valuable insights into the relationships between different variables and the presence of heart disease in the dataset. They can aid in understanding potential risk factors and patterns related to heart disease and may be helpful in guiding further analysis and decision-making in the medical domain."
   ]
  },
  {
   "cell_type": "markdown",
   "id": "ea9e89e0",
   "metadata": {},
   "source": [
    "## \"Thank you for reading all the way till the end.\""
   ]
  }
 ],
 "metadata": {
  "kernelspec": {
   "display_name": "Python 3 (ipykernel)",
   "language": "python",
   "name": "python3"
  },
  "language_info": {
   "codemirror_mode": {
    "name": "ipython",
    "version": 3
   },
   "file_extension": ".py",
   "mimetype": "text/x-python",
   "name": "python",
   "nbconvert_exporter": "python",
   "pygments_lexer": "ipython3",
   "version": "3.9.12"
  }
 },
 "nbformat": 4,
 "nbformat_minor": 5
}
