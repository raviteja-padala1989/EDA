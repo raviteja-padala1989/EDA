{
 "cells": [
  {
   "cell_type": "markdown",
   "id": "dab7bb9c",
   "metadata": {},
   "source": [
    "# Handiling Missing Values\n",
    "\n",
    "\n",
    "In this article will look into handling missing values.\n",
    "\n",
    "* Generally, missing values are denoted by NaN, null, or None. Missing data refers to the absence of values for certain observations and is an unavoidable problem in most data sources. The act of replacing missing data with statistical estimates of missing values is called imputation. The goal of any imputation technique is to produce a complete\n",
    "dataset that can be used to train machine learning models. There are multiple imputation techniques we can apply to our data. Some are mentioned below:\n",
    "\n",
    "\n",
    "* Table of Contents:\n",
    "\n",
    "1. Removing observations with missing data\n",
    "2. Performing mean or median imputation\n",
    "3. Performing mode or frequent category imputation\n",
    "4. Capturing missing values in a bespoke category\n",
    "5. Replacing missing values with an arbitrary number\n",
    "6. Fill Missing Data With interpolate()\n",
    "\n",
    "\n"
   ]
  },
  {
   "cell_type": "code",
   "execution_count": 1,
   "id": "d80cf60d",
   "metadata": {},
   "outputs": [],
   "source": [
    "#importing libraries\n",
    "\n",
    "import numpy as np\n",
    "import pandas as pd\n",
    "import matplotlib.pyplot as plt\n",
    "import seaborn as sns\n",
    "%matplotlib inline\n",
    "\n",
    "\n",
    "import warnings\n",
    "warnings.filterwarnings('ignore')"
   ]
  },
  {
   "cell_type": "code",
   "execution_count": 2,
   "id": "63e0689f",
   "metadata": {},
   "outputs": [],
   "source": [
    "#loading Data set alias called bf\n",
    "\n",
    "d0=pd.read_csv(r'file:///E:\\Users\\Raviteja\\Downloads\\EDA%20class\\Dataset%20for%20eda%2024sep\\data0\\aug_test.csv')"
   ]
  },
  {
   "cell_type": "code",
   "execution_count": 3,
   "id": "aeeeead0",
   "metadata": {},
   "outputs": [
    {
     "data": {
      "text/html": [
       "<div>\n",
       "<style scoped>\n",
       "    .dataframe tbody tr th:only-of-type {\n",
       "        vertical-align: middle;\n",
       "    }\n",
       "\n",
       "    .dataframe tbody tr th {\n",
       "        vertical-align: top;\n",
       "    }\n",
       "\n",
       "    .dataframe thead th {\n",
       "        text-align: right;\n",
       "    }\n",
       "</style>\n",
       "<table border=\"1\" class=\"dataframe\">\n",
       "  <thead>\n",
       "    <tr style=\"text-align: right;\">\n",
       "      <th></th>\n",
       "      <th>enrollee_id</th>\n",
       "      <th>city</th>\n",
       "      <th>city_development_index</th>\n",
       "      <th>gender</th>\n",
       "      <th>relevent_experience</th>\n",
       "      <th>enrolled_university</th>\n",
       "      <th>education_level</th>\n",
       "      <th>major_discipline</th>\n",
       "      <th>experience</th>\n",
       "      <th>company_size</th>\n",
       "      <th>company_type</th>\n",
       "      <th>last_new_job</th>\n",
       "      <th>training_hours</th>\n",
       "    </tr>\n",
       "  </thead>\n",
       "  <tbody>\n",
       "    <tr>\n",
       "      <th>0</th>\n",
       "      <td>32403</td>\n",
       "      <td>city_41</td>\n",
       "      <td>0.827</td>\n",
       "      <td>Male</td>\n",
       "      <td>Has relevent experience</td>\n",
       "      <td>Full time course</td>\n",
       "      <td>Graduate</td>\n",
       "      <td>STEM</td>\n",
       "      <td>9</td>\n",
       "      <td>&lt;10</td>\n",
       "      <td>NaN</td>\n",
       "      <td>1</td>\n",
       "      <td>21</td>\n",
       "    </tr>\n",
       "    <tr>\n",
       "      <th>1</th>\n",
       "      <td>9858</td>\n",
       "      <td>city_103</td>\n",
       "      <td>0.920</td>\n",
       "      <td>Female</td>\n",
       "      <td>Has relevent experience</td>\n",
       "      <td>no_enrollment</td>\n",
       "      <td>Graduate</td>\n",
       "      <td>STEM</td>\n",
       "      <td>5</td>\n",
       "      <td>NaN</td>\n",
       "      <td>Pvt Ltd</td>\n",
       "      <td>1</td>\n",
       "      <td>98</td>\n",
       "    </tr>\n",
       "    <tr>\n",
       "      <th>2</th>\n",
       "      <td>31806</td>\n",
       "      <td>city_21</td>\n",
       "      <td>0.624</td>\n",
       "      <td>Male</td>\n",
       "      <td>No relevent experience</td>\n",
       "      <td>no_enrollment</td>\n",
       "      <td>High School</td>\n",
       "      <td>NaN</td>\n",
       "      <td>&lt;1</td>\n",
       "      <td>NaN</td>\n",
       "      <td>Pvt Ltd</td>\n",
       "      <td>never</td>\n",
       "      <td>15</td>\n",
       "    </tr>\n",
       "    <tr>\n",
       "      <th>3</th>\n",
       "      <td>27385</td>\n",
       "      <td>city_13</td>\n",
       "      <td>0.827</td>\n",
       "      <td>Male</td>\n",
       "      <td>Has relevent experience</td>\n",
       "      <td>no_enrollment</td>\n",
       "      <td>Masters</td>\n",
       "      <td>STEM</td>\n",
       "      <td>11</td>\n",
       "      <td>10/49</td>\n",
       "      <td>Pvt Ltd</td>\n",
       "      <td>1</td>\n",
       "      <td>39</td>\n",
       "    </tr>\n",
       "    <tr>\n",
       "      <th>4</th>\n",
       "      <td>27724</td>\n",
       "      <td>city_103</td>\n",
       "      <td>0.920</td>\n",
       "      <td>Male</td>\n",
       "      <td>Has relevent experience</td>\n",
       "      <td>no_enrollment</td>\n",
       "      <td>Graduate</td>\n",
       "      <td>STEM</td>\n",
       "      <td>&gt;20</td>\n",
       "      <td>10000+</td>\n",
       "      <td>Pvt Ltd</td>\n",
       "      <td>&gt;4</td>\n",
       "      <td>72</td>\n",
       "    </tr>\n",
       "  </tbody>\n",
       "</table>\n",
       "</div>"
      ],
      "text/plain": [
       "   enrollee_id      city  city_development_index  gender  \\\n",
       "0        32403   city_41                   0.827    Male   \n",
       "1         9858  city_103                   0.920  Female   \n",
       "2        31806   city_21                   0.624    Male   \n",
       "3        27385   city_13                   0.827    Male   \n",
       "4        27724  city_103                   0.920    Male   \n",
       "\n",
       "       relevent_experience enrolled_university education_level  \\\n",
       "0  Has relevent experience    Full time course        Graduate   \n",
       "1  Has relevent experience       no_enrollment        Graduate   \n",
       "2   No relevent experience       no_enrollment     High School   \n",
       "3  Has relevent experience       no_enrollment         Masters   \n",
       "4  Has relevent experience       no_enrollment        Graduate   \n",
       "\n",
       "  major_discipline experience company_size company_type last_new_job  \\\n",
       "0             STEM          9          <10          NaN            1   \n",
       "1             STEM          5          NaN      Pvt Ltd            1   \n",
       "2              NaN         <1          NaN      Pvt Ltd        never   \n",
       "3             STEM         11        10/49      Pvt Ltd            1   \n",
       "4             STEM        >20       10000+      Pvt Ltd           >4   \n",
       "\n",
       "   training_hours  \n",
       "0              21  \n",
       "1              98  \n",
       "2              15  \n",
       "3              39  \n",
       "4              72  "
      ]
     },
     "execution_count": 3,
     "metadata": {},
     "output_type": "execute_result"
    }
   ],
   "source": [
    "# using head() function to show top 05 rows\n",
    "d0.head()"
   ]
  },
  {
   "cell_type": "code",
   "execution_count": 4,
   "id": "0b62f9d2",
   "metadata": {},
   "outputs": [
    {
     "data": {
      "text/plain": [
       "['enrollee_id',\n",
       " 'city',\n",
       " 'city_development_index',\n",
       " 'gender',\n",
       " 'relevent_experience',\n",
       " 'enrolled_university',\n",
       " 'education_level',\n",
       " 'major_discipline',\n",
       " 'experience',\n",
       " 'company_size',\n",
       " 'company_type',\n",
       " 'last_new_job',\n",
       " 'training_hours']"
      ]
     },
     "execution_count": 4,
     "metadata": {},
     "output_type": "execute_result"
    }
   ],
   "source": [
    "# Extracting columns using List comprehension\n",
    "\n",
    "[fea for fea in d0.columns]"
   ]
  },
  {
   "cell_type": "code",
   "execution_count": 5,
   "id": "c68a788a",
   "metadata": {},
   "outputs": [
    {
     "data": {
      "text/html": [
       "<div>\n",
       "<style scoped>\n",
       "    .dataframe tbody tr th:only-of-type {\n",
       "        vertical-align: middle;\n",
       "    }\n",
       "\n",
       "    .dataframe tbody tr th {\n",
       "        vertical-align: top;\n",
       "    }\n",
       "\n",
       "    .dataframe thead th {\n",
       "        text-align: right;\n",
       "    }\n",
       "</style>\n",
       "<table border=\"1\" class=\"dataframe\">\n",
       "  <thead>\n",
       "    <tr style=\"text-align: right;\">\n",
       "      <th></th>\n",
       "      <th>enrollee_id</th>\n",
       "      <th>city</th>\n",
       "      <th>city_development_index</th>\n",
       "      <th>gender</th>\n",
       "      <th>relevent_experience</th>\n",
       "      <th>enrolled_university</th>\n",
       "      <th>education_level</th>\n",
       "      <th>major_discipline</th>\n",
       "      <th>experience</th>\n",
       "      <th>company_size</th>\n",
       "      <th>company_type</th>\n",
       "      <th>last_new_job</th>\n",
       "      <th>training_hours</th>\n",
       "    </tr>\n",
       "  </thead>\n",
       "  <tbody>\n",
       "    <tr>\n",
       "      <th>0</th>\n",
       "      <td>False</td>\n",
       "      <td>False</td>\n",
       "      <td>False</td>\n",
       "      <td>False</td>\n",
       "      <td>False</td>\n",
       "      <td>False</td>\n",
       "      <td>False</td>\n",
       "      <td>False</td>\n",
       "      <td>False</td>\n",
       "      <td>False</td>\n",
       "      <td>True</td>\n",
       "      <td>False</td>\n",
       "      <td>False</td>\n",
       "    </tr>\n",
       "    <tr>\n",
       "      <th>1</th>\n",
       "      <td>False</td>\n",
       "      <td>False</td>\n",
       "      <td>False</td>\n",
       "      <td>False</td>\n",
       "      <td>False</td>\n",
       "      <td>False</td>\n",
       "      <td>False</td>\n",
       "      <td>False</td>\n",
       "      <td>False</td>\n",
       "      <td>True</td>\n",
       "      <td>False</td>\n",
       "      <td>False</td>\n",
       "      <td>False</td>\n",
       "    </tr>\n",
       "    <tr>\n",
       "      <th>2</th>\n",
       "      <td>False</td>\n",
       "      <td>False</td>\n",
       "      <td>False</td>\n",
       "      <td>False</td>\n",
       "      <td>False</td>\n",
       "      <td>False</td>\n",
       "      <td>False</td>\n",
       "      <td>True</td>\n",
       "      <td>False</td>\n",
       "      <td>True</td>\n",
       "      <td>False</td>\n",
       "      <td>False</td>\n",
       "      <td>False</td>\n",
       "    </tr>\n",
       "    <tr>\n",
       "      <th>3</th>\n",
       "      <td>False</td>\n",
       "      <td>False</td>\n",
       "      <td>False</td>\n",
       "      <td>False</td>\n",
       "      <td>False</td>\n",
       "      <td>False</td>\n",
       "      <td>False</td>\n",
       "      <td>False</td>\n",
       "      <td>False</td>\n",
       "      <td>False</td>\n",
       "      <td>False</td>\n",
       "      <td>False</td>\n",
       "      <td>False</td>\n",
       "    </tr>\n",
       "    <tr>\n",
       "      <th>4</th>\n",
       "      <td>False</td>\n",
       "      <td>False</td>\n",
       "      <td>False</td>\n",
       "      <td>False</td>\n",
       "      <td>False</td>\n",
       "      <td>False</td>\n",
       "      <td>False</td>\n",
       "      <td>False</td>\n",
       "      <td>False</td>\n",
       "      <td>False</td>\n",
       "      <td>False</td>\n",
       "      <td>False</td>\n",
       "      <td>False</td>\n",
       "    </tr>\n",
       "    <tr>\n",
       "      <th>...</th>\n",
       "      <td>...</td>\n",
       "      <td>...</td>\n",
       "      <td>...</td>\n",
       "      <td>...</td>\n",
       "      <td>...</td>\n",
       "      <td>...</td>\n",
       "      <td>...</td>\n",
       "      <td>...</td>\n",
       "      <td>...</td>\n",
       "      <td>...</td>\n",
       "      <td>...</td>\n",
       "      <td>...</td>\n",
       "      <td>...</td>\n",
       "    </tr>\n",
       "    <tr>\n",
       "      <th>2124</th>\n",
       "      <td>False</td>\n",
       "      <td>False</td>\n",
       "      <td>False</td>\n",
       "      <td>False</td>\n",
       "      <td>False</td>\n",
       "      <td>False</td>\n",
       "      <td>False</td>\n",
       "      <td>False</td>\n",
       "      <td>False</td>\n",
       "      <td>True</td>\n",
       "      <td>False</td>\n",
       "      <td>False</td>\n",
       "      <td>False</td>\n",
       "    </tr>\n",
       "    <tr>\n",
       "      <th>2125</th>\n",
       "      <td>False</td>\n",
       "      <td>False</td>\n",
       "      <td>False</td>\n",
       "      <td>False</td>\n",
       "      <td>False</td>\n",
       "      <td>False</td>\n",
       "      <td>False</td>\n",
       "      <td>False</td>\n",
       "      <td>False</td>\n",
       "      <td>True</td>\n",
       "      <td>True</td>\n",
       "      <td>False</td>\n",
       "      <td>False</td>\n",
       "    </tr>\n",
       "    <tr>\n",
       "      <th>2126</th>\n",
       "      <td>False</td>\n",
       "      <td>False</td>\n",
       "      <td>False</td>\n",
       "      <td>False</td>\n",
       "      <td>False</td>\n",
       "      <td>False</td>\n",
       "      <td>False</td>\n",
       "      <td>True</td>\n",
       "      <td>False</td>\n",
       "      <td>True</td>\n",
       "      <td>False</td>\n",
       "      <td>False</td>\n",
       "      <td>False</td>\n",
       "    </tr>\n",
       "    <tr>\n",
       "      <th>2127</th>\n",
       "      <td>False</td>\n",
       "      <td>False</td>\n",
       "      <td>False</td>\n",
       "      <td>False</td>\n",
       "      <td>False</td>\n",
       "      <td>False</td>\n",
       "      <td>False</td>\n",
       "      <td>True</td>\n",
       "      <td>False</td>\n",
       "      <td>False</td>\n",
       "      <td>False</td>\n",
       "      <td>False</td>\n",
       "      <td>False</td>\n",
       "    </tr>\n",
       "    <tr>\n",
       "      <th>2128</th>\n",
       "      <td>False</td>\n",
       "      <td>False</td>\n",
       "      <td>False</td>\n",
       "      <td>False</td>\n",
       "      <td>False</td>\n",
       "      <td>False</td>\n",
       "      <td>False</td>\n",
       "      <td>False</td>\n",
       "      <td>False</td>\n",
       "      <td>False</td>\n",
       "      <td>False</td>\n",
       "      <td>False</td>\n",
       "      <td>False</td>\n",
       "    </tr>\n",
       "  </tbody>\n",
       "</table>\n",
       "<p>2129 rows × 13 columns</p>\n",
       "</div>"
      ],
      "text/plain": [
       "      enrollee_id   city  city_development_index  gender  relevent_experience  \\\n",
       "0           False  False                   False   False                False   \n",
       "1           False  False                   False   False                False   \n",
       "2           False  False                   False   False                False   \n",
       "3           False  False                   False   False                False   \n",
       "4           False  False                   False   False                False   \n",
       "...           ...    ...                     ...     ...                  ...   \n",
       "2124        False  False                   False   False                False   \n",
       "2125        False  False                   False   False                False   \n",
       "2126        False  False                   False   False                False   \n",
       "2127        False  False                   False   False                False   \n",
       "2128        False  False                   False   False                False   \n",
       "\n",
       "      enrolled_university  education_level  major_discipline  experience  \\\n",
       "0                   False            False             False       False   \n",
       "1                   False            False             False       False   \n",
       "2                   False            False              True       False   \n",
       "3                   False            False             False       False   \n",
       "4                   False            False             False       False   \n",
       "...                   ...              ...               ...         ...   \n",
       "2124                False            False             False       False   \n",
       "2125                False            False             False       False   \n",
       "2126                False            False              True       False   \n",
       "2127                False            False              True       False   \n",
       "2128                False            False             False       False   \n",
       "\n",
       "      company_size  company_type  last_new_job  training_hours  \n",
       "0            False          True         False           False  \n",
       "1             True         False         False           False  \n",
       "2             True         False         False           False  \n",
       "3            False         False         False           False  \n",
       "4            False         False         False           False  \n",
       "...            ...           ...           ...             ...  \n",
       "2124          True         False         False           False  \n",
       "2125          True          True         False           False  \n",
       "2126          True         False         False           False  \n",
       "2127         False         False         False           False  \n",
       "2128         False         False         False           False  \n",
       "\n",
       "[2129 rows x 13 columns]"
      ]
     },
     "execution_count": 5,
     "metadata": {},
     "output_type": "execute_result"
    }
   ],
   "source": [
    "#To check null values in data\n",
    "\n",
    "d0.isnull()"
   ]
  },
  {
   "cell_type": "code",
   "execution_count": 6,
   "id": "6759209a",
   "metadata": {},
   "outputs": [
    {
     "data": {
      "text/plain": [
       "enrollee_id                 0\n",
       "city                        0\n",
       "city_development_index      0\n",
       "gender                    508\n",
       "relevent_experience         0\n",
       "enrolled_university        31\n",
       "education_level            52\n",
       "major_discipline          312\n",
       "experience                  5\n",
       "company_size              622\n",
       "company_type              634\n",
       "last_new_job               40\n",
       "training_hours              0\n",
       "dtype: int64"
      ]
     },
     "execution_count": 6,
     "metadata": {},
     "output_type": "execute_result"
    }
   ],
   "source": [
    "#To count null values in data column wise\n",
    "\n",
    "d0.isnull().sum()"
   ]
  },
  {
   "cell_type": "code",
   "execution_count": 7,
   "id": "19e87fe0",
   "metadata": {},
   "outputs": [
    {
     "data": {
      "text/plain": [
       "2204"
      ]
     },
     "execution_count": 7,
     "metadata": {},
     "output_type": "execute_result"
    }
   ],
   "source": [
    "#To count total null values in entire data \n",
    "\n",
    "d0.isnull().sum().sum()"
   ]
  },
  {
   "cell_type": "code",
   "execution_count": 8,
   "id": "95f3b1a1",
   "metadata": {},
   "outputs": [],
   "source": [
    "#Defining a function to count NUll values.\n",
    "\n",
    "def missing_values_table(d0):\n",
    "        # Total missing values\n",
    "        mis_val = d0.isnull().sum()\n",
    "        \n",
    "        # Percentage of missing values\n",
    "        mis_val_percent = 100 * d0.isnull().sum() / len(d0)\n",
    "        \n",
    "        # Make a table with the results\n",
    "        mis_val_table = pd.concat([mis_val, mis_val_percent], axis=1)\n",
    "        \n",
    "        # Rename the columns\n",
    "        mis_val_table_ren_columns = mis_val_table.rename(\n",
    "        columns = {0 : 'Missing Values', 1 : '% of Total Values'})\n",
    "        \n",
    "        # Sort the table by percentage of missing descending\n",
    "        mis_val_table_ren_columns = mis_val_table_ren_columns[\n",
    "            mis_val_table_ren_columns.iloc[:,1] != 0].sort_values(\n",
    "        '% of Total Values', ascending=False).round(1)\n",
    "        \n",
    "        # Print some summary information\n",
    "        print (\"Your selected dataframe has \" + str(d0.shape[1]) + \" columns.\\n\"      \n",
    "            \"There are \" + str(mis_val_table_ren_columns.shape[0]) +\n",
    "              \" columns that have missing values.\")\n",
    "        \n",
    "        # Return the dataframe with missing information\n",
    "        return mis_val_table_ren_columns\n"
   ]
  },
  {
   "cell_type": "code",
   "execution_count": 9,
   "id": "7525ec04",
   "metadata": {},
   "outputs": [
    {
     "name": "stdout",
     "output_type": "stream",
     "text": [
      "Your selected dataframe has 13 columns.\n",
      "There are 8 columns that have missing values.\n"
     ]
    },
    {
     "data": {
      "text/html": [
       "<div>\n",
       "<style scoped>\n",
       "    .dataframe tbody tr th:only-of-type {\n",
       "        vertical-align: middle;\n",
       "    }\n",
       "\n",
       "    .dataframe tbody tr th {\n",
       "        vertical-align: top;\n",
       "    }\n",
       "\n",
       "    .dataframe thead th {\n",
       "        text-align: right;\n",
       "    }\n",
       "</style>\n",
       "<table border=\"1\" class=\"dataframe\">\n",
       "  <thead>\n",
       "    <tr style=\"text-align: right;\">\n",
       "      <th></th>\n",
       "      <th>Missing Values</th>\n",
       "      <th>% of Total Values</th>\n",
       "    </tr>\n",
       "  </thead>\n",
       "  <tbody>\n",
       "    <tr>\n",
       "      <th>company_type</th>\n",
       "      <td>634</td>\n",
       "      <td>29.8</td>\n",
       "    </tr>\n",
       "    <tr>\n",
       "      <th>company_size</th>\n",
       "      <td>622</td>\n",
       "      <td>29.2</td>\n",
       "    </tr>\n",
       "    <tr>\n",
       "      <th>gender</th>\n",
       "      <td>508</td>\n",
       "      <td>23.9</td>\n",
       "    </tr>\n",
       "    <tr>\n",
       "      <th>major_discipline</th>\n",
       "      <td>312</td>\n",
       "      <td>14.7</td>\n",
       "    </tr>\n",
       "    <tr>\n",
       "      <th>education_level</th>\n",
       "      <td>52</td>\n",
       "      <td>2.4</td>\n",
       "    </tr>\n",
       "    <tr>\n",
       "      <th>last_new_job</th>\n",
       "      <td>40</td>\n",
       "      <td>1.9</td>\n",
       "    </tr>\n",
       "    <tr>\n",
       "      <th>enrolled_university</th>\n",
       "      <td>31</td>\n",
       "      <td>1.5</td>\n",
       "    </tr>\n",
       "    <tr>\n",
       "      <th>experience</th>\n",
       "      <td>5</td>\n",
       "      <td>0.2</td>\n",
       "    </tr>\n",
       "  </tbody>\n",
       "</table>\n",
       "</div>"
      ],
      "text/plain": [
       "                     Missing Values  % of Total Values\n",
       "company_type                    634               29.8\n",
       "company_size                    622               29.2\n",
       "gender                          508               23.9\n",
       "major_discipline                312               14.7\n",
       "education_level                  52                2.4\n",
       "last_new_job                     40                1.9\n",
       "enrolled_university              31                1.5\n",
       "experience                        5                0.2"
      ]
     },
     "execution_count": 9,
     "metadata": {},
     "output_type": "execute_result"
    }
   ],
   "source": [
    "missing_values_table(d0)"
   ]
  },
  {
   "cell_type": "code",
   "execution_count": 10,
   "id": "6023798b",
   "metadata": {},
   "outputs": [
    {
     "data": {
      "text/plain": [
       "Text(0.5, 1.0, 'Quantifying missing data')"
      ]
     },
     "execution_count": 10,
     "metadata": {},
     "output_type": "execute_result"
    },
    {
     "data": {
      "image/png": "[encoded data removed]",
      "text/plain": [
       "<Figure size 864x432 with 1 Axes>"
      ]
     },
     "metadata": {
      "needs_background": "light"
     },
     "output_type": "display_data"
    }
   ],
   "source": [
    "#plotting Null values\n",
    "\n",
    "d0.isnull().mean().plot.bar(figsize=(12,6))\n",
    "plt.ylabel('Percentage of missing values')\n",
    "plt.xlabel('Variables')\n",
    "plt.title('Quantifying missing data')"
   ]
  },
  {
   "cell_type": "markdown",
   "id": "7d9d4c31",
   "metadata": {},
   "source": [
    "# 1. Removing observations with missing data\n",
    "\n",
    "\n",
    "During Listwise deletion, complete rows/columns(which contain the missing values) are deleted. As a result, it is also called Complete Case deletion. \n",
    "\n",
    "A major diadvantage of Listwise deletion is that a major chunk of data and hence a lot of information is lost. Hence, it is advisable to use it only when the number of missing values is very small.\n",
    "\n"
   ]
  },
  {
   "cell_type": "code",
   "execution_count": 11,
   "id": "5ffe3542",
   "metadata": {},
   "outputs": [
    {
     "name": "stdout",
     "output_type": "stream",
     "text": [
      "Number of ROws and columns before deletion = (2129, 13)\n",
      "Number of ROws and columns after deletion = (1019, 13)\n"
     ]
    }
   ],
   "source": [
    "#Removing ROW containing MIssing values\n",
    "\n",
    "d0_row_na = d0.dropna(0)\n",
    "\n",
    "print(\"Number of ROws and columns before deletion =\", d0.shape)\n",
    "print(\"Number of ROws and columns after deletion =\", d0_row_na.shape)"
   ]
  },
  {
   "cell_type": "code",
   "execution_count": 12,
   "id": "168bbe1d",
   "metadata": {},
   "outputs": [
    {
     "name": "stdout",
     "output_type": "stream",
     "text": [
      "Number of ROws and columns before deletion = (2129, 13)\n",
      "Number of ROws and columns after deletion = (2129, 5)\n"
     ]
    }
   ],
   "source": [
    "#Removing Columns containing MIssing values\n",
    "\n",
    "d0_col_na = d0.dropna(1)\n",
    "\n",
    "print(\"Number of ROws and columns before deletion =\", d0.shape)\n",
    "print(\"Number of ROws and columns after deletion =\", d0_col_na.shape)"
   ]
  },
  {
   "cell_type": "markdown",
   "id": "227c2e8e",
   "metadata": {},
   "source": [
    "\n",
    "\n",
    "\n",
    "# 2. Performing mean or median imputation\n",
    "\n",
    "* Filling the missing data with the mean or median value if it’s a numerical variable."
   ]
  },
  {
   "cell_type": "code",
   "execution_count": 13,
   "id": "3335850f",
   "metadata": {},
   "outputs": [
    {
     "data": {
      "text/plain": [
       "User_ID                            0\n",
       "Product_ID                         0\n",
       "Gender                             0\n",
       "Age                                0\n",
       "Occupation                         0\n",
       "City_Category                      0\n",
       "Stay_In_Current_City_Years         0\n",
       "Marital_Status                     0\n",
       "Product_Category_1                 0\n",
       "Product_Category_2            173638\n",
       "Product_Category_3            383247\n",
       "Purchase                           0\n",
       "dtype: int64"
      ]
     },
     "execution_count": 13,
     "metadata": {},
     "output_type": "execute_result"
    }
   ],
   "source": [
    "#Filling the missing data with the mean \n",
    "\n",
    "#importing data set\n",
    "bf = pd.read_csv('blackFriday_train.csv')\n",
    "\n",
    "#finding null values in data set\n",
    "bf.isnull().sum()"
   ]
  },
  {
   "cell_type": "markdown",
   "id": "0ad7cefc",
   "metadata": {},
   "source": [
    "#### FINDING TOTAL VALUES, NULL VALUES AND MEAN OF THE COLUMN"
   ]
  },
  {
   "cell_type": "code",
   "execution_count": 14,
   "id": "cc09774f",
   "metadata": {},
   "outputs": [
    {
     "name": "stdout",
     "output_type": "stream",
     "text": [
      "Mean value of 'Product_Category_3'= 12.668243206790512\n",
      "Total number of entries in Column 'Product_Category_3'= 166821\n",
      "Total number of NULL VALUES in Column 'Product_Category_3'= 383247\n",
      "Mean value of 'bf_pc3'= 12.668243206790512\n",
      "Mean value of 'pc3_mean'= 12.668243206790512\n"
     ]
    }
   ],
   "source": [
    "print(\"Mean value of 'Product_Category_3'=\", bf['Product_Category_3'].mean())\n",
    "print(\"Total number of entries in Column 'Product_Category_3'=\",bf['Product_Category_3'].count())\n",
    "print(\"Total number of NULL VALUES in Column 'Product_Category_3'=\",bf['Product_Category_3'].isnull().sum())\n",
    "\n",
    "#Loading Column 'Product_Category_3' intp alias bf_pc3\n",
    "\n",
    "bf_pc3 = bf['Product_Category_3']\n",
    "\n",
    "#calculating mean value of bf_pc3\n",
    "print(\"Mean value of 'bf_pc3'=\", bf_pc3.mean())\n",
    "\n",
    "#Storing mean value of bf_pc3 in pc3_mean\n",
    "pc3_mean =  bf_pc3.mean()\n",
    "print(\"Mean value of 'pc3_mean'=\", bf_pc3.mean())\n"
   ]
  },
  {
   "cell_type": "markdown",
   "id": "39e59093",
   "metadata": {},
   "source": [
    "### Filling the missing data with the mean"
   ]
  },
  {
   "cell_type": "code",
   "execution_count": 15,
   "id": "cc16bea8",
   "metadata": {},
   "outputs": [
    {
     "name": "stdout",
     "output_type": "stream",
     "text": [
      "Total number of entries in Column 'bf_pc3= 166821\n",
      "Total number of NULL VALUES in Column 'bf_pc3' before fill = 383247\n",
      "Total number of entries in Column 'bf_pc3= 550068\n",
      "Total number of NULL VALUES in Column 'bf_pc3 after fill NA'= 0\n"
     ]
    }
   ],
   "source": [
    "#Fill NA MEAN in null values of  bf_pc3\n",
    "\n",
    "print(\"Total number of entries in Column 'bf_pc3=\",bf_pc3.count())\n",
    "print(\"Total number of NULL VALUES in Column 'bf_pc3' before fill =\",bf_pc3.isnull().sum())\n",
    "\n",
    "\n",
    "bf_fill_mean_pc3 = bf_pc3.fillna(value=pc3_mean, inplace=True)\n",
    "\n",
    "print(\"Total number of entries in Column 'bf_pc3=\",bf_pc3.count())\n",
    "print(\"Total number of NULL VALUES in Column 'bf_pc3 after fill NA'=\",bf_pc3.isnull().sum())"
   ]
  },
  {
   "cell_type": "markdown",
   "id": "daecca8e",
   "metadata": {},
   "source": [
    "#### FINDING TOTAL VALUES, NULL VALUES AND MEDIAN OF THE COLUMN"
   ]
  },
  {
   "cell_type": "code",
   "execution_count": 16,
   "id": "cad94c0d",
   "metadata": {},
   "outputs": [
    {
     "name": "stdout",
     "output_type": "stream",
     "text": [
      "Median value of 'Product_Category_2'= 9.0\n",
      "Total number of entries in Column 'Product_Category_2'= 376430\n",
      "Total number of NULL VALUES in Column 'Product_Category_2'= 173638\n",
      "Median value of 'bf_pc2'= 9.0\n",
      "Median value of 'pc2_median'= 9.0\n"
     ]
    }
   ],
   "source": [
    "print(\"Median value of 'Product_Category_2'=\", bf['Product_Category_2'].median())\n",
    "print(\"Total number of entries in Column 'Product_Category_2'=\",bf['Product_Category_2'].count())\n",
    "print(\"Total number of NULL VALUES in Column 'Product_Category_2'=\",bf['Product_Category_2'].isnull().sum())\n",
    "\n",
    "#Loading Column 'Product_Category_2' intp alias bf_pc2\n",
    "\n",
    "bf_pc2 = bf['Product_Category_2']\n",
    "\n",
    "#calculating median value of bf_pc2\n",
    "print(\"Median value of 'bf_pc2'=\", bf_pc2.median())\n",
    "\n",
    "#Storing mean value of bf_pc2 in pc2_mean\n",
    "pc2_median =  bf_pc2.median()\n",
    "print(\"Median value of 'pc2_median'=\", bf_pc2.median())\n"
   ]
  },
  {
   "cell_type": "markdown",
   "id": "3dfc36f0",
   "metadata": {},
   "source": [
    "### Filling the missing data with the median"
   ]
  },
  {
   "cell_type": "code",
   "execution_count": 17,
   "id": "a8c548f2",
   "metadata": {},
   "outputs": [
    {
     "name": "stdout",
     "output_type": "stream",
     "text": [
      "Total number of entries in Column 'bf_pc2= 376430\n",
      "Total number of NULL VALUES in Column 'bf_pc2' before fill = 173638\n",
      "Total number of entries in Column 'bf_pc2= 550068\n",
      "Total number of NULL VALUES in Column 'bf_pc2 after fill NA'= 0\n"
     ]
    }
   ],
   "source": [
    "#Fill NA MEDIAN in null values of  bf_pc3\n",
    "\n",
    "print(\"Total number of entries in Column 'bf_pc2=\",bf_pc2.count())\n",
    "print(\"Total number of NULL VALUES in Column 'bf_pc2' before fill =\",bf_pc2.isnull().sum())\n",
    "\n",
    "\n",
    "bf_fill_median_pc2 = bf_pc2.fillna(value= pc2_median, inplace=True)\n",
    "\n",
    "print(\"Total number of entries in Column 'bf_pc2=\",bf_pc2.count())\n",
    "print(\"Total number of NULL VALUES in Column 'bf_pc2 after fill NA'=\",bf_pc2.isnull().sum())"
   ]
  },
  {
   "cell_type": "markdown",
   "id": "f39253ae",
   "metadata": {},
   "source": [
    "# 3. Performing mode or frequent category imputation\n",
    "* Mode imputation consists of replacing missing values with the mode. We normally use this procedure in categorical variables, hence the frequent category imputation name. "
   ]
  },
  {
   "cell_type": "code",
   "execution_count": 18,
   "id": "f1947239",
   "metadata": {},
   "outputs": [
    {
     "name": "stdout",
     "output_type": "stream",
     "text": [
      "Total number of entries in Column ''education_level''= 2077\n",
      "Total number of NULL VALUES in Column ''education_level'' = 52\n",
      "Mode of column 'education_level'= Graduate\n"
     ]
    }
   ],
   "source": [
    "print(\"Total number of entries in Column ''education_level''=\",d0['education_level'].count())\n",
    "print(\"Total number of NULL VALUES in Column ''education_level'' =\",d0['education_level'].isnull().sum())\n",
    "\n",
    "d0_mode = d0['education_level'].mode()\n",
    "print(\"Mode of column 'education_level'=\",d0_mode[0])\n",
    "\n"
   ]
  },
  {
   "cell_type": "code",
   "execution_count": 19,
   "id": "8a52267d",
   "metadata": {},
   "outputs": [
    {
     "name": "stdout",
     "output_type": "stream",
     "text": [
      "Total number of entries in Column ''education_level''= 2077\n",
      "Total number of NULL VALUES in Column ''education_level'' before fill= 52\n",
      "Total number of entries in Column ''education_level''= 2129\n",
      "Total number of NULL VALUES in Column ''education_level''after fill= 0\n"
     ]
    }
   ],
   "source": [
    "print(\"Total number of entries in Column ''education_level''=\",d0['education_level'].count())\n",
    "print(\"Total number of NULL VALUES in Column ''education_level'' before fill=\",d0['education_level'].isnull().sum())\n",
    "\n",
    "d0_fill_mode = d0['education_level'].fillna(value= d0_mode[0], inplace=True)\n",
    "\n",
    "\n",
    "print(\"Total number of entries in Column ''education_level''=\",d0['education_level'].count())\n",
    "print(\"Total number of NULL VALUES in Column ''education_level''after fill=\",d0['education_level'].isnull().sum())"
   ]
  },
  {
   "cell_type": "markdown",
   "id": "b0f99f0e",
   "metadata": {},
   "source": [
    "\n",
    "\n",
    "# 4. Capturing missing values in a bespoke category\n",
    "\n",
    "* Missing data in categorical variables can be treated as a different category, so it is common to replace missing values with the Missing string. "
   ]
  },
  {
   "cell_type": "code",
   "execution_count": 20,
   "id": "f76b49bb",
   "metadata": {},
   "outputs": [
    {
     "name": "stdout",
     "output_type": "stream",
     "text": [
      "Total number of entries in Column ''gender''= 1621\n",
      "Total number of NULL VALUES in Column ''education_level'' before fill= 508\n",
      "Total number of entries in Column ''gender''= 2129\n",
      "Total number of NULL VALUES in Column ''gender''after fill with Missing= 0\n"
     ]
    }
   ],
   "source": [
    "print(\"Total number of entries in Column ''gender''=\",d0['gender'].count())\n",
    "print(\"Total number of NULL VALUES in Column ''education_level'' before fill=\",d0['gender'].isnull().sum())\n",
    "\n",
    "d0_fill_missing = d0['gender'].fillna(value= 'Missing', inplace=True)\n",
    "\n",
    "\n",
    "print(\"Total number of entries in Column ''gender''=\",d0['gender'].count())\n",
    "print(\"Total number of NULL VALUES in Column ''gender''after fill with Missing=\",d0['gender'].isnull().sum())"
   ]
  },
  {
   "cell_type": "markdown",
   "id": "a182f86d",
   "metadata": {},
   "source": [
    "\n",
    "\n",
    "# 5. Replacing missing values with an arbitrary number\n",
    "* Arbitrary number imputation consists of replacing missing values with an arbitrary value. Some commonly used values include 0, 999, 9999, or -1 for positive distributions. This method is suitable for numerical variables.\n",
    "\n"
   ]
  },
  {
   "cell_type": "code",
   "execution_count": 21,
   "id": "1c3a68e8",
   "metadata": {},
   "outputs": [
    {
     "data": {
      "text/html": [
       "<div>\n",
       "<style scoped>\n",
       "    .dataframe tbody tr th:only-of-type {\n",
       "        vertical-align: middle;\n",
       "    }\n",
       "\n",
       "    .dataframe tbody tr th {\n",
       "        vertical-align: top;\n",
       "    }\n",
       "\n",
       "    .dataframe thead th {\n",
       "        text-align: right;\n",
       "    }\n",
       "</style>\n",
       "<table border=\"1\" class=\"dataframe\">\n",
       "  <thead>\n",
       "    <tr style=\"text-align: right;\">\n",
       "      <th></th>\n",
       "      <th>CustomerID</th>\n",
       "      <th>ProdTaken</th>\n",
       "      <th>Age</th>\n",
       "      <th>TypeofContact</th>\n",
       "      <th>CityTier</th>\n",
       "      <th>DurationOfPitch</th>\n",
       "      <th>Occupation</th>\n",
       "      <th>Gender</th>\n",
       "      <th>NumberOfPersonVisiting</th>\n",
       "      <th>NumberOfFollowups</th>\n",
       "      <th>ProductPitched</th>\n",
       "      <th>PreferredPropertyStar</th>\n",
       "      <th>MaritalStatus</th>\n",
       "      <th>NumberOfTrips</th>\n",
       "      <th>Passport</th>\n",
       "      <th>PitchSatisfactionScore</th>\n",
       "      <th>OwnCar</th>\n",
       "      <th>NumberOfChildrenVisiting</th>\n",
       "      <th>Designation</th>\n",
       "      <th>MonthlyIncome</th>\n",
       "    </tr>\n",
       "  </thead>\n",
       "  <tbody>\n",
       "    <tr>\n",
       "      <th>0</th>\n",
       "      <td>200000</td>\n",
       "      <td>1</td>\n",
       "      <td>41.0</td>\n",
       "      <td>Self Enquiry</td>\n",
       "      <td>3</td>\n",
       "      <td>6.0</td>\n",
       "      <td>Salaried</td>\n",
       "      <td>Female</td>\n",
       "      <td>3</td>\n",
       "      <td>3.0</td>\n",
       "      <td>Deluxe</td>\n",
       "      <td>3.0</td>\n",
       "      <td>Single</td>\n",
       "      <td>1.0</td>\n",
       "      <td>1</td>\n",
       "      <td>2</td>\n",
       "      <td>1</td>\n",
       "      <td>0.0</td>\n",
       "      <td>Manager</td>\n",
       "      <td>20993.0</td>\n",
       "    </tr>\n",
       "    <tr>\n",
       "      <th>1</th>\n",
       "      <td>200001</td>\n",
       "      <td>0</td>\n",
       "      <td>49.0</td>\n",
       "      <td>Company Invited</td>\n",
       "      <td>1</td>\n",
       "      <td>14.0</td>\n",
       "      <td>Salaried</td>\n",
       "      <td>Male</td>\n",
       "      <td>3</td>\n",
       "      <td>4.0</td>\n",
       "      <td>Deluxe</td>\n",
       "      <td>4.0</td>\n",
       "      <td>Divorced</td>\n",
       "      <td>2.0</td>\n",
       "      <td>0</td>\n",
       "      <td>3</td>\n",
       "      <td>1</td>\n",
       "      <td>2.0</td>\n",
       "      <td>Manager</td>\n",
       "      <td>20130.0</td>\n",
       "    </tr>\n",
       "    <tr>\n",
       "      <th>2</th>\n",
       "      <td>200002</td>\n",
       "      <td>1</td>\n",
       "      <td>37.0</td>\n",
       "      <td>Self Enquiry</td>\n",
       "      <td>1</td>\n",
       "      <td>8.0</td>\n",
       "      <td>Free Lancer</td>\n",
       "      <td>Male</td>\n",
       "      <td>3</td>\n",
       "      <td>4.0</td>\n",
       "      <td>Basic</td>\n",
       "      <td>3.0</td>\n",
       "      <td>Single</td>\n",
       "      <td>7.0</td>\n",
       "      <td>1</td>\n",
       "      <td>3</td>\n",
       "      <td>0</td>\n",
       "      <td>0.0</td>\n",
       "      <td>Executive</td>\n",
       "      <td>17090.0</td>\n",
       "    </tr>\n",
       "    <tr>\n",
       "      <th>3</th>\n",
       "      <td>200003</td>\n",
       "      <td>0</td>\n",
       "      <td>33.0</td>\n",
       "      <td>Company Invited</td>\n",
       "      <td>1</td>\n",
       "      <td>9.0</td>\n",
       "      <td>Salaried</td>\n",
       "      <td>Female</td>\n",
       "      <td>2</td>\n",
       "      <td>3.0</td>\n",
       "      <td>Basic</td>\n",
       "      <td>3.0</td>\n",
       "      <td>Divorced</td>\n",
       "      <td>2.0</td>\n",
       "      <td>1</td>\n",
       "      <td>5</td>\n",
       "      <td>1</td>\n",
       "      <td>1.0</td>\n",
       "      <td>Executive</td>\n",
       "      <td>17909.0</td>\n",
       "    </tr>\n",
       "    <tr>\n",
       "      <th>4</th>\n",
       "      <td>200004</td>\n",
       "      <td>0</td>\n",
       "      <td>NaN</td>\n",
       "      <td>Self Enquiry</td>\n",
       "      <td>1</td>\n",
       "      <td>8.0</td>\n",
       "      <td>Small Business</td>\n",
       "      <td>Male</td>\n",
       "      <td>2</td>\n",
       "      <td>3.0</td>\n",
       "      <td>Basic</td>\n",
       "      <td>4.0</td>\n",
       "      <td>Divorced</td>\n",
       "      <td>1.0</td>\n",
       "      <td>0</td>\n",
       "      <td>5</td>\n",
       "      <td>1</td>\n",
       "      <td>0.0</td>\n",
       "      <td>Executive</td>\n",
       "      <td>18468.0</td>\n",
       "    </tr>\n",
       "  </tbody>\n",
       "</table>\n",
       "</div>"
      ],
      "text/plain": [
       "   CustomerID  ProdTaken   Age    TypeofContact  CityTier  DurationOfPitch  \\\n",
       "0      200000          1  41.0     Self Enquiry         3              6.0   \n",
       "1      200001          0  49.0  Company Invited         1             14.0   \n",
       "2      200002          1  37.0     Self Enquiry         1              8.0   \n",
       "3      200003          0  33.0  Company Invited         1              9.0   \n",
       "4      200004          0   NaN     Self Enquiry         1              8.0   \n",
       "\n",
       "       Occupation  Gender  NumberOfPersonVisiting  NumberOfFollowups  \\\n",
       "0        Salaried  Female                       3                3.0   \n",
       "1        Salaried    Male                       3                4.0   \n",
       "2     Free Lancer    Male                       3                4.0   \n",
       "3        Salaried  Female                       2                3.0   \n",
       "4  Small Business    Male                       2                3.0   \n",
       "\n",
       "  ProductPitched  PreferredPropertyStar MaritalStatus  NumberOfTrips  \\\n",
       "0         Deluxe                    3.0        Single            1.0   \n",
       "1         Deluxe                    4.0      Divorced            2.0   \n",
       "2          Basic                    3.0        Single            7.0   \n",
       "3          Basic                    3.0      Divorced            2.0   \n",
       "4          Basic                    4.0      Divorced            1.0   \n",
       "\n",
       "   Passport  PitchSatisfactionScore  OwnCar  NumberOfChildrenVisiting  \\\n",
       "0         1                       2       1                       0.0   \n",
       "1         0                       3       1                       2.0   \n",
       "2         1                       3       0                       0.0   \n",
       "3         1                       5       1                       1.0   \n",
       "4         0                       5       1                       0.0   \n",
       "\n",
       "  Designation  MonthlyIncome  \n",
       "0     Manager        20993.0  \n",
       "1     Manager        20130.0  \n",
       "2   Executive        17090.0  \n",
       "3   Executive        17909.0  \n",
       "4   Executive        18468.0  "
      ]
     },
     "execution_count": 21,
     "metadata": {},
     "output_type": "execute_result"
    }
   ],
   "source": [
    "#importing data set\n",
    "tr= pd.read_csv(r'file:///E:\\Users\\Raviteja\\Downloads\\EDA%20class\\Dataset%20for%20eda%2024sep\\data1\\Travel.csv')\n",
    "tr.head()"
   ]
  },
  {
   "cell_type": "markdown",
   "id": "dac8eb06",
   "metadata": {},
   "source": [
    "### Filling the missing data with arbitary value "
   ]
  },
  {
   "cell_type": "code",
   "execution_count": 22,
   "id": "23961fac",
   "metadata": {},
   "outputs": [
    {
     "name": "stdout",
     "output_type": "stream",
     "text": [
      "Total number of entries in Column 'Age'= 4662\n",
      "Total number of NULL VALUES in Column 'Age'= before fill 226\n",
      "Total number of entries in Column 'Age'= 4888\n",
      "Total number of NULL VALUES in Column 'Age' after fill with 0= 0\n"
     ]
    }
   ],
   "source": [
    "print(\"Total number of entries in Column 'Age'=\",tr['Age'].count())\n",
    "print(\"Total number of NULL VALUES in Column 'Age'= before fill\",tr['Age'].isnull().sum())\n",
    "\n",
    "tr_fill_missing_0 = tr['Age'].fillna(value= 0, inplace=True)\n",
    "\n",
    "print(\"Total number of entries in Column 'Age'=\",tr['Age'].count())\n",
    "print(\"Total number of NULL VALUES in Column 'Age' after fill with 0=\",tr['Age'].isnull().sum())\n"
   ]
  },
  {
   "cell_type": "markdown",
   "id": "9607986a",
   "metadata": {},
   "source": [
    "\n",
    "\n",
    "# 6. Fill Missing Data With interpolate()\n",
    "* The interpolate() function uses existing values in the DataFrame to estimate the missing values in the rows.\n"
   ]
  },
  {
   "cell_type": "code",
   "execution_count": 23,
   "id": "6191e24d",
   "metadata": {},
   "outputs": [
    {
     "name": "stdout",
     "output_type": "stream",
     "text": [
      "Total number of entries in Column 'DurationOfPitch'= 4637\n",
      "Total number of NULL VALUES in Column 'DurationOfPitch'before fill= 251\n",
      "Total number of entries in Column 'DurationOfPitch'= 4888\n",
      "Total number of NULL VALUES in Column 'DurationOfPitch' after 'forward' fill= 0\n"
     ]
    }
   ],
   "source": [
    "# Interpolate Forward\n",
    "print(\"Total number of entries in Column 'DurationOfPitch'=\",tr['DurationOfPitch'].count())\n",
    "print(\"Total number of NULL VALUES in Column 'DurationOfPitch'before fill=\",tr['DurationOfPitch'].isnull().sum())\n",
    "\n",
    "tr['DurationOfPitch'].interpolate(method ='linear', limit_direction ='forward', inplace=True)\n",
    "\n",
    "print(\"Total number of entries in Column 'DurationOfPitch'=\",tr['DurationOfPitch'].count())\n",
    "print(\"Total number of NULL VALUES in Column 'DurationOfPitch' after 'forward' fill=\",tr['DurationOfPitch'].isnull().sum())"
   ]
  },
  {
   "cell_type": "code",
   "execution_count": 24,
   "id": "3ff69d8e",
   "metadata": {},
   "outputs": [
    {
     "name": "stdout",
     "output_type": "stream",
     "text": [
      "Total number of entries in Column 'NumberOfFollowups'= 4843\n",
      "Total number of NULL VALUES in Column 'NumberOfFollowups' before fill= 45\n",
      "Total number of entries in Column 'NumberOfFollowups'= 4888\n",
      "Total number of NULL VALUES in Column 'NumberOfFollowups' after Backward fill = 0\n"
     ]
    }
   ],
   "source": [
    "# Interpolate Backward\n",
    "print(\"Total number of entries in Column 'NumberOfFollowups'=\",tr['NumberOfFollowups'].count())\n",
    "print(\"Total number of NULL VALUES in Column 'NumberOfFollowups' before fill=\",tr['NumberOfFollowups'].isnull().sum())\n",
    "\n",
    "tr['NumberOfFollowups'].interpolate(method ='linear', limit_direction ='forward', inplace=True)\n",
    "\n",
    "print(\"Total number of entries in Column 'NumberOfFollowups'=\",tr['NumberOfFollowups'].count())\n",
    "print(\"Total number of NULL VALUES in Column 'NumberOfFollowups' after Backward fill =\",tr['NumberOfFollowups'].isnull().sum())"
   ]
  },
  {
   "cell_type": "code",
   "execution_count": null,
   "id": "9e581b78",
   "metadata": {},
   "outputs": [],
   "source": []
  }
 ],
 "metadata": {
  "kernelspec": {
   "display_name": "Python 3 (ipykernel)",
   "language": "python",
   "name": "python3"
  },
  "language_info": {
   "codemirror_mode": {
    "name": "ipython",
    "version": 3
   },
   "file_extension": ".py",
   "mimetype": "text/x-python",
   "name": "python",
   "nbconvert_exporter": "python",
   "pygments_lexer": "ipython3",
   "version": "3.9.12"
  }
 },
 "nbformat": 4,
 "nbformat_minor": 5
}
